{
  "nbformat": 4,
  "nbformat_minor": 0,
  "metadata": {
    "colab": {
      "provenance": [],
      "gpuType": "T4"
    },
    "kernelspec": {
      "name": "python3",
      "display_name": "Python 3"
    },
    "language_info": {
      "name": "python"
    },
    "accelerator": "GPU"
  },
  "cells": [
    {
      "cell_type": "code",
      "execution_count": null,
      "metadata": {
        "colab": {
          "base_uri": "https://localhost:8080/"
        },
        "id": "olL7UCRfmsC8",
        "outputId": "bc949b29-c3f2-4d2a-c8e5-fe7a3d001371"
      },
      "outputs": [
        {
          "output_type": "stream",
          "name": "stdout",
          "text": [
            "Found existing installation: numpy 2.0.2\n",
            "Uninstalling numpy-2.0.2:\n",
            "  Successfully uninstalled numpy-2.0.2\n"
          ]
        }
      ],
      "source": [
        "!pip uninstall -y numpy"
      ]
    },
    {
      "cell_type": "code",
      "source": [
        "!pip install --no-cache-dir numpy==1.26.3"
      ],
      "metadata": {
        "colab": {
          "base_uri": "https://localhost:8080/",
          "height": 301
        },
        "id": "5RzNlClNnJa2",
        "outputId": "64be6974-b577-4a41-d63a-1e7bfa8d5903"
      },
      "execution_count": null,
      "outputs": [
        {
          "output_type": "stream",
          "name": "stdout",
          "text": [
            "Collecting numpy==1.26.3\n",
            "  Downloading numpy-1.26.3-cp311-cp311-manylinux_2_17_x86_64.manylinux2014_x86_64.whl.metadata (61 kB)\n",
            "\u001b[2K     \u001b[90m━━━━━━━━━━━━━━━━━━━━━━━━━━━━━━━━━━━━━━━━\u001b[0m \u001b[32m61.2/61.2 kB\u001b[0m \u001b[31m6.1 MB/s\u001b[0m eta \u001b[36m0:00:00\u001b[0m\n",
            "\u001b[?25hDownloading numpy-1.26.3-cp311-cp311-manylinux_2_17_x86_64.manylinux2014_x86_64.whl (18.3 MB)\n",
            "\u001b[2K   \u001b[90m━━━━━━━━━━━━━━━━━━━━━━━━━━━━━━━━━━━━━━━━\u001b[0m \u001b[32m18.3/18.3 MB\u001b[0m \u001b[31m193.3 MB/s\u001b[0m eta \u001b[36m0:00:00\u001b[0m\n",
            "\u001b[?25hInstalling collected packages: numpy\n",
            "\u001b[31mERROR: pip's dependency resolver does not currently take into account all the packages that are installed. This behaviour is the source of the following dependency conflicts.\n",
            "thinc 8.3.6 requires numpy<3.0.0,>=2.0.0, but you have numpy 1.26.3 which is incompatible.\u001b[0m\u001b[31m\n",
            "\u001b[0mSuccessfully installed numpy-1.26.3\n"
          ]
        },
        {
          "output_type": "display_data",
          "data": {
            "application/vnd.colab-display-data+json": {
              "pip_warning": {
                "packages": [
                  "numpy"
                ]
              },
              "id": "d729e4aa853145f6ba008cc7df4882d1"
            }
          },
          "metadata": {}
        }
      ]
    },
    {
      "cell_type": "code",
      "source": [
        "import os\n",
        "os.kill(os.getpid(), 9)"
      ],
      "metadata": {
        "id": "WHJAC2XcnMbq"
      },
      "execution_count": null,
      "outputs": []
    },
    {
      "cell_type": "code",
      "source": [
        "import numpy\n",
        "numpy.__version__\n",
        "\n"
      ],
      "metadata": {
        "id": "tEjIVHVEnOGR"
      },
      "execution_count": null,
      "outputs": []
    },
    {
      "cell_type": "code",
      "source": [
        "from google.colab import drive\n",
        "drive.mount('/content/drive')"
      ],
      "metadata": {
        "id": "3aUYenFJnPVJ",
        "colab": {
          "base_uri": "https://localhost:8080/"
        },
        "outputId": "46ba7e03-f83c-4884-9f20-c1cdaacb0476"
      },
      "execution_count": 1,
      "outputs": [
        {
          "output_type": "stream",
          "name": "stdout",
          "text": [
            "Mounted at /content/drive\n"
          ]
        }
      ]
    },
    {
      "cell_type": "code",
      "source": [
        "save_path_videos = '/content/drive/MyDrive/paths/dataset_Videos.npy'\n",
        "save_path_labels = '/content/drive/MyDrive/paths/dataset_labels.npy'"
      ],
      "metadata": {
        "id": "JZssoKsNnQnZ"
      },
      "execution_count": 2,
      "outputs": []
    },
    {
      "cell_type": "code",
      "source": [
        "import numpy as np\n",
        "\n",
        "videos = np.load(save_path_videos)\n",
        "labels = np.load(save_path_labels)"
      ],
      "metadata": {
        "id": "gKSFM3cznSbh"
      },
      "execution_count": 3,
      "outputs": []
    },
    {
      "cell_type": "code",
      "source": [
        "# Print the shape of the videos and labels arrays\n",
        "print(\"Videos shape:\", videos.shape)\n",
        "print(\"Labels shape:\", labels.shape)"
      ],
      "metadata": {
        "colab": {
          "base_uri": "https://localhost:8080/"
        },
        "id": "ML5JPwWxnUMx",
        "outputId": "4d26c388-4c5d-4f0e-f861-5732605e3ef4"
      },
      "execution_count": 4,
      "outputs": [
        {
          "output_type": "stream",
          "name": "stdout",
          "text": [
            "Videos shape: (4050, 22, 80, 112, 1)\n",
            "Labels shape: (4050,)\n"
          ]
        }
      ]
    },
    {
      "cell_type": "code",
      "source": [
        "from sklearn.preprocessing import LabelEncoder\n",
        "from tensorflow.keras.utils import to_categorical\n",
        "\n",
        "# Encode the labels into numerical values\n",
        "label_encoder = LabelEncoder()\n",
        "labels_encoded = label_encoder.fit_transform(labels)\n",
        "\n",
        "# One-hot encode the labels\n",
        "labels_onehot = to_categorical(labels_encoded)\n",
        "\n",
        "# Display the mapping\n",
        "print(\"✅ Label encoding mapping:\")\n",
        "for i, label in enumerate(label_encoder.classes_):\n",
        "    print(f\"{i} → {label}\")\n",
        "\n",
        "print(\"✅ Labels encoded and one-hot encoded.\")\n"
      ],
      "metadata": {
        "colab": {
          "base_uri": "https://localhost:8080/"
        },
        "id": "cpCEMWYNnXKR",
        "outputId": "dab3090e-63d8-480f-d85c-422b6b797d11"
      },
      "execution_count": 5,
      "outputs": [
        {
          "output_type": "stream",
          "name": "stdout",
          "text": [
            "✅ Label encoding mapping:\n",
            "0 → a\n",
            "1 → bye\n",
            "2 → can\n",
            "3 → cat\n",
            "4 → demo\n",
            "5 → dog\n",
            "6 → hello\n",
            "7 → here\n",
            "8 → is\n",
            "9 → lips\n",
            "10 → my\n",
            "11 → read\n",
            "12 → you\n",
            "✅ Labels encoded and one-hot encoded.\n"
          ]
        }
      ]
    },
    {
      "cell_type": "code",
      "source": [
        "label_dict = {0:\"a\", 1: \"bye\", 2:\"can\", 3:\"cat\", 4:\"demo\", 5:\"dog\", 6: \"hello\", 7:\"here\", 8:\"is\", 9:\"lips\", 10:\"my\", 11:\"read\", 12:\"you\"}"
      ],
      "metadata": {
        "id": "pwPRp8TgnYTh"
      },
      "execution_count": 6,
      "outputs": []
    },
    {
      "cell_type": "code",
      "source": [
        "from sklearn.model_selection import train_test_split\n",
        "\n",
        "# Split into training and validation sets\n",
        "X_train, X_val, y_train, y_val = train_test_split(\n",
        "    videos, labels_onehot, test_size=0.2, random_state=42, stratify=labels_encoded\n",
        ")\n",
        "\n",
        "print(f\"Training set: {X_train.shape}, {y_train.shape}\")\n",
        "print(f\"Validation set: {X_val.shape}, {y_val.shape}\")\n"
      ],
      "metadata": {
        "colab": {
          "base_uri": "https://localhost:8080/"
        },
        "id": "g9rDGvQYnaBa",
        "outputId": "96d8a35a-8c5c-4041-f063-00b816274eed"
      },
      "execution_count": 7,
      "outputs": [
        {
          "output_type": "stream",
          "name": "stdout",
          "text": [
            "Training set: (3240, 22, 80, 112, 1), (3240, 13)\n",
            "Validation set: (810, 22, 80, 112, 1), (810, 13)\n"
          ]
        }
      ]
    },
    {
      "cell_type": "code",
      "source": [
        "del videos\n",
        "del labels\n",
        "del labels_encoded\n",
        "del labels_onehot"
      ],
      "metadata": {
        "id": "_ooF7DzQ44RL"
      },
      "execution_count": 8,
      "outputs": []
    },
    {
      "cell_type": "code",
      "source": [
        "import gc\n",
        "gc.collect()\n",
        "!cat /proc/meminfo | grep Mem\n"
      ],
      "metadata": {
        "colab": {
          "base_uri": "https://localhost:8080/"
        },
        "id": "veJAV4lAnbRo",
        "outputId": "46f0c169-0322-42d2-f1d2-44ee877d00a6"
      },
      "execution_count": 9,
      "outputs": [
        {
          "output_type": "stream",
          "name": "stdout",
          "text": [
            "MemTotal:       13289424 kB\n",
            "MemFree:         3335600 kB\n",
            "MemAvailable:    8310236 kB\n"
          ]
        }
      ]
    },
    {
      "cell_type": "code",
      "source": [
        "# =============================================================================\n",
        "# 2. Temporal Convolutional Network (TCN) - Enhanced\n",
        "# =============================================================================\n",
        "import tensorflow as tf\n",
        "from tensorflow import keras\n",
        "from tensorflow.keras import layers, Model\n",
        "import numpy as np\n",
        "from tensorflow.keras.optimizers import Adam\n",
        "from tensorflow.keras.callbacks import EarlyStopping, ReduceLROnPlateau\n",
        "\n",
        "class TCNBlock(layers.Layer):\n",
        "    \"\"\"Temporal Convolutional Network Block with dilated convolutions\"\"\"\n",
        "\n",
        "    def __init__(self, filters, kernel_size, dilation_rate, dropout_rate=0.2, **kwargs):\n",
        "        super(TCNBlock, self).__init__(**kwargs)\n",
        "        self.filters = filters\n",
        "        self.kernel_size = kernel_size\n",
        "        self.dilation_rate = dilation_rate\n",
        "        self.dropout_rate = dropout_rate\n",
        "\n",
        "        # Dilated causal convolution\n",
        "        self.conv1 = layers.Conv1D(\n",
        "            filters=filters,\n",
        "            kernel_size=kernel_size,\n",
        "            dilation_rate=dilation_rate,\n",
        "            padding='causal',\n",
        "            activation='relu'\n",
        "        )\n",
        "        self.dropout1 = layers.Dropout(dropout_rate)\n",
        "        self.norm1 = layers.LayerNormalization()\n",
        "\n",
        "        # Second convolution\n",
        "        self.conv2 = layers.Conv1D(\n",
        "            filters=filters,\n",
        "            kernel_size=kernel_size,\n",
        "            dilation_rate=dilation_rate,\n",
        "            padding='causal',\n",
        "            activation='relu'\n",
        "        )\n",
        "        self.dropout2 = layers.Dropout(dropout_rate)\n",
        "        self.norm2 = layers.LayerNormalization()\n",
        "\n",
        "        # Residual connection adjustment\n",
        "        self.residual_conv = layers.Conv1D(filters, 1) if filters != None else None\n",
        "\n",
        "    def build(self, input_shape):\n",
        "        super(TCNBlock, self).build(input_shape)\n",
        "        # Adjust residual connection if needed\n",
        "        if input_shape[-1] != self.filters:\n",
        "            self.residual_conv = layers.Conv1D(self.filters, 1)\n",
        "\n",
        "    def call(self, inputs, training=None):\n",
        "        x = self.conv1(inputs)\n",
        "        x = self.dropout1(x, training=training)\n",
        "        x = self.norm1(x)\n",
        "\n",
        "        x = self.conv2(x)\n",
        "        x = self.dropout2(x, training=training)\n",
        "        x = self.norm2(x)\n",
        "\n",
        "        # Residual connection\n",
        "        if self.residual_conv:\n",
        "            residual = self.residual_conv(inputs)\n",
        "        else:\n",
        "            residual = inputs\n",
        "\n",
        "        return x + residual\n",
        "\n",
        "def create_tcn_model(input_shape=(22, 64, 64, 3), num_classes=10):\n",
        "    \"\"\"\n",
        "    Enhanced Temporal Convolutional Network for lip reading\n",
        "\n",
        "    Args:\n",
        "        input_shape: (sequence_length, height, width, channels)\n",
        "        num_classes: Number of output classes\n",
        "    \"\"\"\n",
        "    inputs = layers.Input(shape=input_shape)\n",
        "\n",
        "    # CNN feature extraction per frame\n",
        "    x = layers.TimeDistributed(\n",
        "        layers.Conv2D(64, (3, 3), activation='relu', padding='same')\n",
        "    )(inputs)\n",
        "    x = layers.TimeDistributed(layers.MaxPooling2D((2, 2)))(x)\n",
        "\n",
        "    x = layers.TimeDistributed(\n",
        "        layers.Conv2D(128, (3, 3), activation='relu', padding='same')\n",
        "    )(x)\n",
        "    x = layers.TimeDistributed(layers.MaxPooling2D((2, 2)))(x)\n",
        "\n",
        "    # Global average pooling to get feature vector per frame\n",
        "    x = layers.TimeDistributed(layers.GlobalAveragePooling2D())(x)\n",
        "\n",
        "    # TCN blocks with increasing dilation rates\n",
        "    x = TCNBlock(filters=128, kernel_size=3, dilation_rate=1)(x)\n",
        "    x = TCNBlock(filters=128, kernel_size=3, dilation_rate=2)(x)\n",
        "    x = TCNBlock(filters=128, kernel_size=3, dilation_rate=4)(x)\n",
        "    x = TCNBlock(filters=128, kernel_size=3, dilation_rate=8)(x)\n",
        "\n",
        "    # Global temporal pooling\n",
        "    x = layers.GlobalAveragePooling1D()(x)\n",
        "\n",
        "    # Classification head\n",
        "    x = layers.Dense(256, activation='relu')(x)\n",
        "    x = layers.Dropout(0.5)(x)\n",
        "    outputs = layers.Dense(num_classes, activation='softmax')(x)\n",
        "\n",
        "    model = Model(inputs=inputs, outputs=outputs, name='TCN_LipReader')\n",
        "    return model\n",
        "\n",
        "# Example usage\n",
        "print(\"=== Temporal Convolutional Network (TCN) ===\")\n",
        "tcn_model = create_tcn_model(input_shape=(22, 80, 112, 1), num_classes=13)\n",
        "tcn_model.compile(optimizer=Adam(1e-4), loss='categorical_crossentropy', metrics=['accuracy'])\n",
        "tcn_model.summary()\n",
        "print()\n"
      ],
      "metadata": {
        "colab": {
          "base_uri": "https://localhost:8080/",
          "height": 749
        },
        "id": "vQQhxqVSncmI",
        "outputId": "4bc76565-480b-4777-cb82-d48e9952f1d5"
      },
      "execution_count": 10,
      "outputs": [
        {
          "output_type": "stream",
          "name": "stdout",
          "text": [
            "=== Temporal Convolutional Network (TCN) ===\n"
          ]
        },
        {
          "output_type": "display_data",
          "data": {
            "text/plain": [
              "\u001b[1mModel: \"TCN_LipReader\"\u001b[0m\n"
            ],
            "text/html": [
              "<pre style=\"white-space:pre;overflow-x:auto;line-height:normal;font-family:Menlo,'DejaVu Sans Mono',consolas,'Courier New',monospace\"><span style=\"font-weight: bold\">Model: \"TCN_LipReader\"</span>\n",
              "</pre>\n"
            ]
          },
          "metadata": {}
        },
        {
          "output_type": "display_data",
          "data": {
            "text/plain": [
              "┏━━━━━━━━━━━━━━━━━━━━━━━━━━━━━━━━━┳━━━━━━━━━━━━━━━━━━━━━━━━┳━━━━━━━━━━━━━━━┓\n",
              "┃\u001b[1m \u001b[0m\u001b[1mLayer (type)                   \u001b[0m\u001b[1m \u001b[0m┃\u001b[1m \u001b[0m\u001b[1mOutput Shape          \u001b[0m\u001b[1m \u001b[0m┃\u001b[1m \u001b[0m\u001b[1m      Param #\u001b[0m\u001b[1m \u001b[0m┃\n",
              "┡━━━━━━━━━━━━━━━━━━━━━━━━━━━━━━━━━╇━━━━━━━━━━━━━━━━━━━━━━━━╇━━━━━━━━━━━━━━━┩\n",
              "│ input_layer (\u001b[38;5;33mInputLayer\u001b[0m)        │ (\u001b[38;5;45mNone\u001b[0m, \u001b[38;5;34m22\u001b[0m, \u001b[38;5;34m80\u001b[0m, \u001b[38;5;34m112\u001b[0m, \u001b[38;5;34m1\u001b[0m) │             \u001b[38;5;34m0\u001b[0m │\n",
              "├─────────────────────────────────┼────────────────────────┼───────────────┤\n",
              "│ time_distributed                │ (\u001b[38;5;45mNone\u001b[0m, \u001b[38;5;34m22\u001b[0m, \u001b[38;5;34m80\u001b[0m, \u001b[38;5;34m112\u001b[0m,    │           \u001b[38;5;34m640\u001b[0m │\n",
              "│ (\u001b[38;5;33mTimeDistributed\u001b[0m)               │ \u001b[38;5;34m64\u001b[0m)                    │               │\n",
              "├─────────────────────────────────┼────────────────────────┼───────────────┤\n",
              "│ time_distributed_1              │ (\u001b[38;5;45mNone\u001b[0m, \u001b[38;5;34m22\u001b[0m, \u001b[38;5;34m40\u001b[0m, \u001b[38;5;34m56\u001b[0m, \u001b[38;5;34m64\u001b[0m) │             \u001b[38;5;34m0\u001b[0m │\n",
              "│ (\u001b[38;5;33mTimeDistributed\u001b[0m)               │                        │               │\n",
              "├─────────────────────────────────┼────────────────────────┼───────────────┤\n",
              "│ time_distributed_2              │ (\u001b[38;5;45mNone\u001b[0m, \u001b[38;5;34m22\u001b[0m, \u001b[38;5;34m40\u001b[0m, \u001b[38;5;34m56\u001b[0m,     │        \u001b[38;5;34m73,856\u001b[0m │\n",
              "│ (\u001b[38;5;33mTimeDistributed\u001b[0m)               │ \u001b[38;5;34m128\u001b[0m)                   │               │\n",
              "├─────────────────────────────────┼────────────────────────┼───────────────┤\n",
              "│ time_distributed_3              │ (\u001b[38;5;45mNone\u001b[0m, \u001b[38;5;34m22\u001b[0m, \u001b[38;5;34m20\u001b[0m, \u001b[38;5;34m28\u001b[0m,     │             \u001b[38;5;34m0\u001b[0m │\n",
              "│ (\u001b[38;5;33mTimeDistributed\u001b[0m)               │ \u001b[38;5;34m128\u001b[0m)                   │               │\n",
              "├─────────────────────────────────┼────────────────────────┼───────────────┤\n",
              "│ time_distributed_4              │ (\u001b[38;5;45mNone\u001b[0m, \u001b[38;5;34m22\u001b[0m, \u001b[38;5;34m128\u001b[0m)        │             \u001b[38;5;34m0\u001b[0m │\n",
              "│ (\u001b[38;5;33mTimeDistributed\u001b[0m)               │                        │               │\n",
              "├─────────────────────────────────┼────────────────────────┼───────────────┤\n",
              "│ tcn_block (\u001b[38;5;33mTCNBlock\u001b[0m)            │ (\u001b[38;5;45mNone\u001b[0m, \u001b[38;5;34m22\u001b[0m, \u001b[38;5;34m128\u001b[0m)        │       \u001b[38;5;34m115,584\u001b[0m │\n",
              "├─────────────────────────────────┼────────────────────────┼───────────────┤\n",
              "│ tcn_block_1 (\u001b[38;5;33mTCNBlock\u001b[0m)          │ (\u001b[38;5;45mNone\u001b[0m, \u001b[38;5;34m22\u001b[0m, \u001b[38;5;34m128\u001b[0m)        │       \u001b[38;5;34m115,584\u001b[0m │\n",
              "├─────────────────────────────────┼────────────────────────┼───────────────┤\n",
              "│ tcn_block_2 (\u001b[38;5;33mTCNBlock\u001b[0m)          │ (\u001b[38;5;45mNone\u001b[0m, \u001b[38;5;34m22\u001b[0m, \u001b[38;5;34m128\u001b[0m)        │       \u001b[38;5;34m115,584\u001b[0m │\n",
              "├─────────────────────────────────┼────────────────────────┼───────────────┤\n",
              "│ tcn_block_3 (\u001b[38;5;33mTCNBlock\u001b[0m)          │ (\u001b[38;5;45mNone\u001b[0m, \u001b[38;5;34m22\u001b[0m, \u001b[38;5;34m128\u001b[0m)        │       \u001b[38;5;34m115,584\u001b[0m │\n",
              "├─────────────────────────────────┼────────────────────────┼───────────────┤\n",
              "│ global_average_pooling1d        │ (\u001b[38;5;45mNone\u001b[0m, \u001b[38;5;34m128\u001b[0m)            │             \u001b[38;5;34m0\u001b[0m │\n",
              "│ (\u001b[38;5;33mGlobalAveragePooling1D\u001b[0m)        │                        │               │\n",
              "├─────────────────────────────────┼────────────────────────┼───────────────┤\n",
              "│ dense (\u001b[38;5;33mDense\u001b[0m)                   │ (\u001b[38;5;45mNone\u001b[0m, \u001b[38;5;34m256\u001b[0m)            │        \u001b[38;5;34m33,024\u001b[0m │\n",
              "├─────────────────────────────────┼────────────────────────┼───────────────┤\n",
              "│ dropout_8 (\u001b[38;5;33mDropout\u001b[0m)             │ (\u001b[38;5;45mNone\u001b[0m, \u001b[38;5;34m256\u001b[0m)            │             \u001b[38;5;34m0\u001b[0m │\n",
              "├─────────────────────────────────┼────────────────────────┼───────────────┤\n",
              "│ dense_1 (\u001b[38;5;33mDense\u001b[0m)                 │ (\u001b[38;5;45mNone\u001b[0m, \u001b[38;5;34m13\u001b[0m)             │         \u001b[38;5;34m3,341\u001b[0m │\n",
              "└─────────────────────────────────┴────────────────────────┴───────────────┘\n"
            ],
            "text/html": [
              "<pre style=\"white-space:pre;overflow-x:auto;line-height:normal;font-family:Menlo,'DejaVu Sans Mono',consolas,'Courier New',monospace\">┏━━━━━━━━━━━━━━━━━━━━━━━━━━━━━━━━━┳━━━━━━━━━━━━━━━━━━━━━━━━┳━━━━━━━━━━━━━━━┓\n",
              "┃<span style=\"font-weight: bold\"> Layer (type)                    </span>┃<span style=\"font-weight: bold\"> Output Shape           </span>┃<span style=\"font-weight: bold\">       Param # </span>┃\n",
              "┡━━━━━━━━━━━━━━━━━━━━━━━━━━━━━━━━━╇━━━━━━━━━━━━━━━━━━━━━━━━╇━━━━━━━━━━━━━━━┩\n",
              "│ input_layer (<span style=\"color: #0087ff; text-decoration-color: #0087ff\">InputLayer</span>)        │ (<span style=\"color: #00d7ff; text-decoration-color: #00d7ff\">None</span>, <span style=\"color: #00af00; text-decoration-color: #00af00\">22</span>, <span style=\"color: #00af00; text-decoration-color: #00af00\">80</span>, <span style=\"color: #00af00; text-decoration-color: #00af00\">112</span>, <span style=\"color: #00af00; text-decoration-color: #00af00\">1</span>) │             <span style=\"color: #00af00; text-decoration-color: #00af00\">0</span> │\n",
              "├─────────────────────────────────┼────────────────────────┼───────────────┤\n",
              "│ time_distributed                │ (<span style=\"color: #00d7ff; text-decoration-color: #00d7ff\">None</span>, <span style=\"color: #00af00; text-decoration-color: #00af00\">22</span>, <span style=\"color: #00af00; text-decoration-color: #00af00\">80</span>, <span style=\"color: #00af00; text-decoration-color: #00af00\">112</span>,    │           <span style=\"color: #00af00; text-decoration-color: #00af00\">640</span> │\n",
              "│ (<span style=\"color: #0087ff; text-decoration-color: #0087ff\">TimeDistributed</span>)               │ <span style=\"color: #00af00; text-decoration-color: #00af00\">64</span>)                    │               │\n",
              "├─────────────────────────────────┼────────────────────────┼───────────────┤\n",
              "│ time_distributed_1              │ (<span style=\"color: #00d7ff; text-decoration-color: #00d7ff\">None</span>, <span style=\"color: #00af00; text-decoration-color: #00af00\">22</span>, <span style=\"color: #00af00; text-decoration-color: #00af00\">40</span>, <span style=\"color: #00af00; text-decoration-color: #00af00\">56</span>, <span style=\"color: #00af00; text-decoration-color: #00af00\">64</span>) │             <span style=\"color: #00af00; text-decoration-color: #00af00\">0</span> │\n",
              "│ (<span style=\"color: #0087ff; text-decoration-color: #0087ff\">TimeDistributed</span>)               │                        │               │\n",
              "├─────────────────────────────────┼────────────────────────┼───────────────┤\n",
              "│ time_distributed_2              │ (<span style=\"color: #00d7ff; text-decoration-color: #00d7ff\">None</span>, <span style=\"color: #00af00; text-decoration-color: #00af00\">22</span>, <span style=\"color: #00af00; text-decoration-color: #00af00\">40</span>, <span style=\"color: #00af00; text-decoration-color: #00af00\">56</span>,     │        <span style=\"color: #00af00; text-decoration-color: #00af00\">73,856</span> │\n",
              "│ (<span style=\"color: #0087ff; text-decoration-color: #0087ff\">TimeDistributed</span>)               │ <span style=\"color: #00af00; text-decoration-color: #00af00\">128</span>)                   │               │\n",
              "├─────────────────────────────────┼────────────────────────┼───────────────┤\n",
              "│ time_distributed_3              │ (<span style=\"color: #00d7ff; text-decoration-color: #00d7ff\">None</span>, <span style=\"color: #00af00; text-decoration-color: #00af00\">22</span>, <span style=\"color: #00af00; text-decoration-color: #00af00\">20</span>, <span style=\"color: #00af00; text-decoration-color: #00af00\">28</span>,     │             <span style=\"color: #00af00; text-decoration-color: #00af00\">0</span> │\n",
              "│ (<span style=\"color: #0087ff; text-decoration-color: #0087ff\">TimeDistributed</span>)               │ <span style=\"color: #00af00; text-decoration-color: #00af00\">128</span>)                   │               │\n",
              "├─────────────────────────────────┼────────────────────────┼───────────────┤\n",
              "│ time_distributed_4              │ (<span style=\"color: #00d7ff; text-decoration-color: #00d7ff\">None</span>, <span style=\"color: #00af00; text-decoration-color: #00af00\">22</span>, <span style=\"color: #00af00; text-decoration-color: #00af00\">128</span>)        │             <span style=\"color: #00af00; text-decoration-color: #00af00\">0</span> │\n",
              "│ (<span style=\"color: #0087ff; text-decoration-color: #0087ff\">TimeDistributed</span>)               │                        │               │\n",
              "├─────────────────────────────────┼────────────────────────┼───────────────┤\n",
              "│ tcn_block (<span style=\"color: #0087ff; text-decoration-color: #0087ff\">TCNBlock</span>)            │ (<span style=\"color: #00d7ff; text-decoration-color: #00d7ff\">None</span>, <span style=\"color: #00af00; text-decoration-color: #00af00\">22</span>, <span style=\"color: #00af00; text-decoration-color: #00af00\">128</span>)        │       <span style=\"color: #00af00; text-decoration-color: #00af00\">115,584</span> │\n",
              "├─────────────────────────────────┼────────────────────────┼───────────────┤\n",
              "│ tcn_block_1 (<span style=\"color: #0087ff; text-decoration-color: #0087ff\">TCNBlock</span>)          │ (<span style=\"color: #00d7ff; text-decoration-color: #00d7ff\">None</span>, <span style=\"color: #00af00; text-decoration-color: #00af00\">22</span>, <span style=\"color: #00af00; text-decoration-color: #00af00\">128</span>)        │       <span style=\"color: #00af00; text-decoration-color: #00af00\">115,584</span> │\n",
              "├─────────────────────────────────┼────────────────────────┼───────────────┤\n",
              "│ tcn_block_2 (<span style=\"color: #0087ff; text-decoration-color: #0087ff\">TCNBlock</span>)          │ (<span style=\"color: #00d7ff; text-decoration-color: #00d7ff\">None</span>, <span style=\"color: #00af00; text-decoration-color: #00af00\">22</span>, <span style=\"color: #00af00; text-decoration-color: #00af00\">128</span>)        │       <span style=\"color: #00af00; text-decoration-color: #00af00\">115,584</span> │\n",
              "├─────────────────────────────────┼────────────────────────┼───────────────┤\n",
              "│ tcn_block_3 (<span style=\"color: #0087ff; text-decoration-color: #0087ff\">TCNBlock</span>)          │ (<span style=\"color: #00d7ff; text-decoration-color: #00d7ff\">None</span>, <span style=\"color: #00af00; text-decoration-color: #00af00\">22</span>, <span style=\"color: #00af00; text-decoration-color: #00af00\">128</span>)        │       <span style=\"color: #00af00; text-decoration-color: #00af00\">115,584</span> │\n",
              "├─────────────────────────────────┼────────────────────────┼───────────────┤\n",
              "│ global_average_pooling1d        │ (<span style=\"color: #00d7ff; text-decoration-color: #00d7ff\">None</span>, <span style=\"color: #00af00; text-decoration-color: #00af00\">128</span>)            │             <span style=\"color: #00af00; text-decoration-color: #00af00\">0</span> │\n",
              "│ (<span style=\"color: #0087ff; text-decoration-color: #0087ff\">GlobalAveragePooling1D</span>)        │                        │               │\n",
              "├─────────────────────────────────┼────────────────────────┼───────────────┤\n",
              "│ dense (<span style=\"color: #0087ff; text-decoration-color: #0087ff\">Dense</span>)                   │ (<span style=\"color: #00d7ff; text-decoration-color: #00d7ff\">None</span>, <span style=\"color: #00af00; text-decoration-color: #00af00\">256</span>)            │        <span style=\"color: #00af00; text-decoration-color: #00af00\">33,024</span> │\n",
              "├─────────────────────────────────┼────────────────────────┼───────────────┤\n",
              "│ dropout_8 (<span style=\"color: #0087ff; text-decoration-color: #0087ff\">Dropout</span>)             │ (<span style=\"color: #00d7ff; text-decoration-color: #00d7ff\">None</span>, <span style=\"color: #00af00; text-decoration-color: #00af00\">256</span>)            │             <span style=\"color: #00af00; text-decoration-color: #00af00\">0</span> │\n",
              "├─────────────────────────────────┼────────────────────────┼───────────────┤\n",
              "│ dense_1 (<span style=\"color: #0087ff; text-decoration-color: #0087ff\">Dense</span>)                 │ (<span style=\"color: #00d7ff; text-decoration-color: #00d7ff\">None</span>, <span style=\"color: #00af00; text-decoration-color: #00af00\">13</span>)             │         <span style=\"color: #00af00; text-decoration-color: #00af00\">3,341</span> │\n",
              "└─────────────────────────────────┴────────────────────────┴───────────────┘\n",
              "</pre>\n"
            ]
          },
          "metadata": {}
        },
        {
          "output_type": "display_data",
          "data": {
            "text/plain": [
              "\u001b[1m Total params: \u001b[0m\u001b[38;5;34m573,197\u001b[0m (2.19 MB)\n"
            ],
            "text/html": [
              "<pre style=\"white-space:pre;overflow-x:auto;line-height:normal;font-family:Menlo,'DejaVu Sans Mono',consolas,'Courier New',monospace\"><span style=\"font-weight: bold\"> Total params: </span><span style=\"color: #00af00; text-decoration-color: #00af00\">573,197</span> (2.19 MB)\n",
              "</pre>\n"
            ]
          },
          "metadata": {}
        },
        {
          "output_type": "display_data",
          "data": {
            "text/plain": [
              "\u001b[1m Trainable params: \u001b[0m\u001b[38;5;34m573,197\u001b[0m (2.19 MB)\n"
            ],
            "text/html": [
              "<pre style=\"white-space:pre;overflow-x:auto;line-height:normal;font-family:Menlo,'DejaVu Sans Mono',consolas,'Courier New',monospace\"><span style=\"font-weight: bold\"> Trainable params: </span><span style=\"color: #00af00; text-decoration-color: #00af00\">573,197</span> (2.19 MB)\n",
              "</pre>\n"
            ]
          },
          "metadata": {}
        },
        {
          "output_type": "display_data",
          "data": {
            "text/plain": [
              "\u001b[1m Non-trainable params: \u001b[0m\u001b[38;5;34m0\u001b[0m (0.00 B)\n"
            ],
            "text/html": [
              "<pre style=\"white-space:pre;overflow-x:auto;line-height:normal;font-family:Menlo,'DejaVu Sans Mono',consolas,'Courier New',monospace\"><span style=\"font-weight: bold\"> Non-trainable params: </span><span style=\"color: #00af00; text-decoration-color: #00af00\">0</span> (0.00 B)\n",
              "</pre>\n"
            ]
          },
          "metadata": {}
        },
        {
          "output_type": "stream",
          "name": "stdout",
          "text": [
            "\n"
          ]
        }
      ]
    },
    {
      "cell_type": "code",
      "source": [
        "from tensorflow.keras.callbacks import EarlyStopping, ReduceLROnPlateau\n",
        "\n",
        "# Callbacks for better training\n",
        "early_stopping = EarlyStopping(monitor='val_loss', patience=5, restore_best_weights=True)\n",
        "lr_scheduler = ReduceLROnPlateau(monitor='val_loss', factor=0.5, patience=3, min_lr=1e-6)\n",
        "\n",
        "callbacks = [\n",
        "    EarlyStopping(patience=5, restore_best_weights=True),\n",
        "    ReduceLROnPlateau(patience=3, factor=0.5)\n",
        "]\n",
        "\n",
        "history = tcn_model.fit(X_train, y_train,\n",
        "             validation_data=(X_val, y_val),\n",
        "             epochs=50,\n",
        "             batch_size=8,\n",
        "             callbacks=callbacks)"
      ],
      "metadata": {
        "colab": {
          "base_uri": "https://localhost:8080/"
        },
        "id": "fve3Ekq2n42n",
        "outputId": "ab3480a3-1add-4671-9b14-d0be7891b52c"
      },
      "execution_count": 11,
      "outputs": [
        {
          "output_type": "stream",
          "name": "stdout",
          "text": [
            "Epoch 1/50\n",
            "\u001b[1m405/405\u001b[0m \u001b[32m━━━━━━━━━━━━━━━━━━━━\u001b[0m\u001b[37m\u001b[0m \u001b[1m72s\u001b[0m 108ms/step - accuracy: 0.0759 - loss: 2.7297 - val_accuracy: 0.0753 - val_loss: 2.6251 - learning_rate: 1.0000e-04\n",
            "Epoch 2/50\n",
            "\u001b[1m405/405\u001b[0m \u001b[32m━━━━━━━━━━━━━━━━━━━━\u001b[0m\u001b[37m\u001b[0m \u001b[1m55s\u001b[0m 82ms/step - accuracy: 0.0644 - loss: 2.6398 - val_accuracy: 0.0630 - val_loss: 2.6267 - learning_rate: 1.0000e-04\n",
            "Epoch 3/50\n",
            "\u001b[1m405/405\u001b[0m \u001b[32m━━━━━━━━━━━━━━━━━━━━\u001b[0m\u001b[37m\u001b[0m \u001b[1m42s\u001b[0m 84ms/step - accuracy: 0.0794 - loss: 2.6075 - val_accuracy: 0.0691 - val_loss: 2.5909 - learning_rate: 1.0000e-04\n",
            "Epoch 4/50\n",
            "\u001b[1m405/405\u001b[0m \u001b[32m━━━━━━━━━━━━━━━━━━━━\u001b[0m\u001b[37m\u001b[0m \u001b[1m34s\u001b[0m 84ms/step - accuracy: 0.0726 - loss: 2.5820 - val_accuracy: 0.0741 - val_loss: 2.5726 - learning_rate: 1.0000e-04\n",
            "Epoch 5/50\n",
            "\u001b[1m405/405\u001b[0m \u001b[32m━━━━━━━━━━━━━━━━━━━━\u001b[0m\u001b[37m\u001b[0m \u001b[1m33s\u001b[0m 82ms/step - accuracy: 0.0773 - loss: 2.5759 - val_accuracy: 0.0815 - val_loss: 2.5683 - learning_rate: 1.0000e-04\n",
            "Epoch 6/50\n",
            "\u001b[1m405/405\u001b[0m \u001b[32m━━━━━━━━━━━━━━━━━━━━\u001b[0m\u001b[37m\u001b[0m \u001b[1m34s\u001b[0m 83ms/step - accuracy: 0.0918 - loss: 2.5719 - val_accuracy: 0.0716 - val_loss: 2.5681 - learning_rate: 1.0000e-04\n",
            "Epoch 7/50\n",
            "\u001b[1m405/405\u001b[0m \u001b[32m━━━━━━━━━━━━━━━━━━━━\u001b[0m\u001b[37m\u001b[0m \u001b[1m41s\u001b[0m 82ms/step - accuracy: 0.0732 - loss: 2.5697 - val_accuracy: 0.0840 - val_loss: 2.5694 - learning_rate: 1.0000e-04\n",
            "Epoch 8/50\n",
            "\u001b[1m405/405\u001b[0m \u001b[32m━━━━━━━━━━━━━━━━━━━━\u001b[0m\u001b[37m\u001b[0m \u001b[1m34s\u001b[0m 83ms/step - accuracy: 0.0799 - loss: 2.5683 - val_accuracy: 0.0802 - val_loss: 2.5655 - learning_rate: 1.0000e-04\n",
            "Epoch 9/50\n",
            "\u001b[1m405/405\u001b[0m \u001b[32m━━━━━━━━━━━━━━━━━━━━\u001b[0m\u001b[37m\u001b[0m \u001b[1m40s\u001b[0m 81ms/step - accuracy: 0.0679 - loss: 2.5669 - val_accuracy: 0.0802 - val_loss: 2.5647 - learning_rate: 1.0000e-04\n",
            "Epoch 10/50\n",
            "\u001b[1m405/405\u001b[0m \u001b[32m━━━━━━━━━━━━━━━━━━━━\u001b[0m\u001b[37m\u001b[0m \u001b[1m41s\u001b[0m 81ms/step - accuracy: 0.0821 - loss: 2.5660 - val_accuracy: 0.0790 - val_loss: 2.5657 - learning_rate: 1.0000e-04\n",
            "Epoch 11/50\n",
            "\u001b[1m405/405\u001b[0m \u001b[32m━━━━━━━━━━━━━━━━━━━━\u001b[0m\u001b[37m\u001b[0m \u001b[1m33s\u001b[0m 81ms/step - accuracy: 0.0792 - loss: 2.5664 - val_accuracy: 0.0667 - val_loss: 2.5695 - learning_rate: 1.0000e-04\n",
            "Epoch 12/50\n",
            "\u001b[1m405/405\u001b[0m \u001b[32m━━━━━━━━━━━━━━━━━━━━\u001b[0m\u001b[37m\u001b[0m \u001b[1m41s\u001b[0m 82ms/step - accuracy: 0.0867 - loss: 2.5678 - val_accuracy: 0.0753 - val_loss: 2.5654 - learning_rate: 1.0000e-04\n",
            "Epoch 13/50\n",
            "\u001b[1m405/405\u001b[0m \u001b[32m━━━━━━━━━━━━━━━━━━━━\u001b[0m\u001b[37m\u001b[0m \u001b[1m41s\u001b[0m 82ms/step - accuracy: 0.0838 - loss: 2.5658 - val_accuracy: 0.0802 - val_loss: 2.5647 - learning_rate: 5.0000e-05\n",
            "Epoch 14/50\n",
            "\u001b[1m405/405\u001b[0m \u001b[32m━━━━━━━━━━━━━━━━━━━━\u001b[0m\u001b[37m\u001b[0m \u001b[1m41s\u001b[0m 82ms/step - accuracy: 0.0867 - loss: 2.5644 - val_accuracy: 0.0827 - val_loss: 2.5646 - learning_rate: 5.0000e-05\n",
            "Epoch 15/50\n",
            "\u001b[1m405/405\u001b[0m \u001b[32m━━━━━━━━━━━━━━━━━━━━\u001b[0m\u001b[37m\u001b[0m \u001b[1m41s\u001b[0m 82ms/step - accuracy: 0.0774 - loss: 2.5649 - val_accuracy: 0.0802 - val_loss: 2.5646 - learning_rate: 5.0000e-05\n",
            "Epoch 16/50\n",
            "\u001b[1m405/405\u001b[0m \u001b[32m━━━━━━━━━━━━━━━━━━━━\u001b[0m\u001b[37m\u001b[0m \u001b[1m40s\u001b[0m 80ms/step - accuracy: 0.0740 - loss: 2.5638 - val_accuracy: 0.0852 - val_loss: 2.5650 - learning_rate: 5.0000e-05\n",
            "Epoch 17/50\n",
            "\u001b[1m405/405\u001b[0m \u001b[32m━━━━━━━━━━━━━━━━━━━━\u001b[0m\u001b[37m\u001b[0m \u001b[1m33s\u001b[0m 82ms/step - accuracy: 0.0760 - loss: 2.5647 - val_accuracy: 0.0802 - val_loss: 2.5646 - learning_rate: 5.0000e-05\n",
            "Epoch 18/50\n",
            "\u001b[1m405/405\u001b[0m \u001b[32m━━━━━━━━━━━━━━━━━━━━\u001b[0m\u001b[37m\u001b[0m \u001b[1m41s\u001b[0m 80ms/step - accuracy: 0.0826 - loss: 2.5650 - val_accuracy: 0.0802 - val_loss: 2.5646 - learning_rate: 2.5000e-05\n",
            "Epoch 19/50\n",
            "\u001b[1m405/405\u001b[0m \u001b[32m━━━━━━━━━━━━━━━━━━━━\u001b[0m\u001b[37m\u001b[0m \u001b[1m41s\u001b[0m 80ms/step - accuracy: 0.0862 - loss: 2.5646 - val_accuracy: 0.0827 - val_loss: 2.5641 - learning_rate: 2.5000e-05\n",
            "Epoch 20/50\n",
            "\u001b[1m405/405\u001b[0m \u001b[32m━━━━━━━━━━━━━━━━━━━━\u001b[0m\u001b[37m\u001b[0m \u001b[1m41s\u001b[0m 81ms/step - accuracy: 0.0914 - loss: 2.5643 - val_accuracy: 0.0802 - val_loss: 2.5645 - learning_rate: 2.5000e-05\n",
            "Epoch 21/50\n",
            "\u001b[1m405/405\u001b[0m \u001b[32m━━━━━━━━━━━━━━━━━━━━\u001b[0m\u001b[37m\u001b[0m \u001b[1m33s\u001b[0m 80ms/step - accuracy: 0.0862 - loss: 2.5644 - val_accuracy: 0.0802 - val_loss: 2.5645 - learning_rate: 2.5000e-05\n",
            "Epoch 22/50\n",
            "\u001b[1m405/405\u001b[0m \u001b[32m━━━━━━━━━━━━━━━━━━━━\u001b[0m\u001b[37m\u001b[0m \u001b[1m41s\u001b[0m 81ms/step - accuracy: 0.0841 - loss: 2.5647 - val_accuracy: 0.0802 - val_loss: 2.5645 - learning_rate: 2.5000e-05\n",
            "Epoch 23/50\n",
            "\u001b[1m405/405\u001b[0m \u001b[32m━━━━━━━━━━━━━━━━━━━━\u001b[0m\u001b[37m\u001b[0m \u001b[1m33s\u001b[0m 82ms/step - accuracy: 0.0885 - loss: 2.5644 - val_accuracy: 0.0802 - val_loss: 2.5645 - learning_rate: 1.2500e-05\n",
            "Epoch 24/50\n",
            "\u001b[1m405/405\u001b[0m \u001b[32m━━━━━━━━━━━━━━━━━━━━\u001b[0m\u001b[37m\u001b[0m \u001b[1m40s\u001b[0m 80ms/step - accuracy: 0.0840 - loss: 2.5648 - val_accuracy: 0.0802 - val_loss: 2.5645 - learning_rate: 1.2500e-05\n"
          ]
        }
      ]
    },
    {
      "cell_type": "code",
      "source": [
        "def evaluate_model(model, name=\"Model\"):\n",
        "    loss, acc = model.evaluate(X_val, y_val, verbose=0)\n",
        "    print(f\"{name} - Validation Accuracy: {acc:.4f}, Loss: {loss:.4f}\")\n",
        "\n",
        "evaluate_model(tcn_model, \"Temporal Convolutional Network \")\n",
        "\n"
      ],
      "metadata": {
        "id": "nerqHqe_n_gb",
        "colab": {
          "base_uri": "https://localhost:8080/"
        },
        "outputId": "28fd21d3-6fd6-404e-bd55-8e4efa387af3"
      },
      "execution_count": 13,
      "outputs": [
        {
          "output_type": "stream",
          "name": "stdout",
          "text": [
            "Temporal Convolutional Network  - Validation Accuracy: 0.0827, Loss: 2.5641\n"
          ]
        }
      ]
    },
    {
      "cell_type": "code",
      "source": [
        "# Save the trained model\n",
        "tcn_model.save(\"/content/drive/MyDrive/models/tcn.h5\")\n",
        "print(\"✅ Model saved.\")\n"
      ],
      "metadata": {
        "colab": {
          "base_uri": "https://localhost:8080/"
        },
        "id": "6PMBWCSC9Eso",
        "outputId": "fb96d457-fbb5-4e6b-e1e7-f256a66a0c04"
      },
      "execution_count": 14,
      "outputs": [
        {
          "output_type": "stream",
          "name": "stderr",
          "text": [
            "WARNING:absl:You are saving your model as an HDF5 file via `model.save()` or `keras.saving.save_model(model)`. This file format is considered legacy. We recommend using instead the native Keras format, e.g. `model.save('my_model.keras')` or `keras.saving.save_model(model, 'my_model.keras')`. \n"
          ]
        },
        {
          "output_type": "stream",
          "name": "stdout",
          "text": [
            "✅ Model saved.\n"
          ]
        }
      ]
    },
    {
      "cell_type": "code",
      "source": [
        "y_pred_prob = tcn_model.predict(X_val)\n",
        "y_pred = np.argmax(y_pred_prob, axis=1)"
      ],
      "metadata": {
        "colab": {
          "base_uri": "https://localhost:8080/"
        },
        "id": "GURLF7N79S_2",
        "outputId": "94842d40-8e64-490c-85eb-0e18ba960741"
      },
      "execution_count": 16,
      "outputs": [
        {
          "output_type": "stream",
          "name": "stdout",
          "text": [
            "\u001b[1m26/26\u001b[0m \u001b[32m━━━━━━━━━━━━━━━━━━━━\u001b[0m\u001b[37m\u001b[0m \u001b[1m17s\u001b[0m 297ms/step\n"
          ]
        }
      ]
    },
    {
      "cell_type": "code",
      "source": [
        "from prettytable import PrettyTable\n",
        "from sklearn.metrics import classification_report\n",
        "from tensorflow.keras.utils import to_categorical\n",
        "\n",
        "# Convert y_pred to one-hot encoded format to match y_val\n",
        "y_pred_onehot = to_categorical(y_pred, num_classes=y_val.shape[1])\n",
        "\n",
        "# Generate classification report\n",
        "report = classification_report(y_val, y_pred_onehot, output_dict=True)\n",
        "\n",
        "table = PrettyTable()\n",
        "table.field_names = [\"Class\", \"Precision\", \"Recall\", \"F1-Score\", \"Support\"]\n",
        "for label, metrics in report.items():\n",
        "    if label.isdigit():\n",
        "        precision = round(metrics['precision'], 2)\n",
        "        recall = round(metrics['recall'], 2)\n",
        "        f1_score = round(metrics['f1-score'], 2)\n",
        "        support = metrics['support']\n",
        "        table.add_row([label_dict[int(label)], precision, recall, f1_score, support])\n",
        "\n",
        "print(table)"
      ],
      "metadata": {
        "colab": {
          "base_uri": "https://localhost:8080/"
        },
        "id": "fym4BdcJ9VDW",
        "outputId": "96dc236e-11df-4bd7-893e-d49e41ee9e11"
      },
      "execution_count": 17,
      "outputs": [
        {
          "output_type": "stream",
          "name": "stdout",
          "text": [
            "+-------+-----------+--------+----------+---------+\n",
            "| Class | Precision | Recall | F1-Score | Support |\n",
            "+-------+-----------+--------+----------+---------+\n",
            "|   a   |    0.0    |  0.0   |   0.0    |   64.0  |\n",
            "|  bye  |    0.1    |  0.19  |   0.13   |   62.0  |\n",
            "|  can  |    0.0    |  0.0   |   0.0    |   61.0  |\n",
            "|  cat  |    0.0    |  0.0   |   0.0    |   59.0  |\n",
            "|  demo |    0.0    |  0.0   |   0.0    |   62.0  |\n",
            "|  dog  |    0.0    |  0.0   |   0.0    |   60.0  |\n",
            "| hello |    0.0    |  0.0   |   0.0    |   57.0  |\n",
            "|  here |    0.0    |  0.0   |   0.0    |   66.0  |\n",
            "|   is  |    0.07   |  0.03  |   0.04   |   65.0  |\n",
            "|  lips |    0.0    |  0.0   |   0.0    |   64.0  |\n",
            "|   my  |    0.0    |  0.0   |   0.0    |   64.0  |\n",
            "|  read |    0.08   |  0.82  |   0.15   |   65.0  |\n",
            "|  you  |    0.0    |  0.0   |   0.0    |   61.0  |\n",
            "+-------+-----------+--------+----------+---------+\n"
          ]
        },
        {
          "output_type": "stream",
          "name": "stderr",
          "text": [
            "/usr/local/lib/python3.11/dist-packages/sklearn/metrics/_classification.py:1565: UndefinedMetricWarning: Precision is ill-defined and being set to 0.0 in labels with no predicted samples. Use `zero_division` parameter to control this behavior.\n",
            "  _warn_prf(average, modifier, f\"{metric.capitalize()} is\", len(result))\n"
          ]
        }
      ]
    },
    {
      "cell_type": "code",
      "source": [
        "from sklearn.metrics import confusion_matrix\n",
        "import seaborn as sns\n",
        "import matplotlib.pyplot as plt\n",
        "import sklearn\n",
        "\n",
        "# Convert y_val to multiclass format\n",
        "y_val_multiclass = np.argmax(y_val, axis=1)  # Convert one-hot to class indices\n",
        "\n",
        "# Now generate the confusion matrix\n",
        "conf_matrix = sklearn.metrics.confusion_matrix(y_val_multiclass, y_pred)\n",
        "\n",
        "# Define the list of label strings in the order of their integer values\n",
        "label_strings = [label_dict[i] for i in range(len(label_dict))]\n",
        "\n",
        "# Generate the heatmap confusion matrix\n",
        "sns.heatmap(conf_matrix, annot=True, cmap=\"Blues\", xticklabels=label_strings, yticklabels=label_strings)\n",
        "plt.xlabel(\"Predicted Labels\")\n",
        "plt.ylabel(\"True Labels\")\n",
        "plt.title(\"Confusion Matrix\")\n",
        "plt.show()"
      ],
      "metadata": {
        "colab": {
          "base_uri": "https://localhost:8080/",
          "height": 497
        },
        "id": "tSYUARZV9Yy1",
        "outputId": "de53c871-7c83-432c-de46-346e48302113"
      },
      "execution_count": 18,
      "outputs": [
        {
          "output_type": "display_data",
          "data": {
            "text/plain": [
              "<Figure size 640x480 with 2 Axes>"
            ],
            "image/png": "[encoded data removed]"
          },
          "metadata": {}
        }
      ]
    },
    {
      "cell_type": "code",
      "source": [
        "import matplotlib.pyplot as plt\n",
        "# Plot training history\n",
        "def plot_training_history(history):\n",
        "    plt.figure(figsize=(12, 4))\n",
        "    plt.subplot(1, 2, 1)\n",
        "    plt.plot(history.history['accuracy'], label='Train Accuracy')\n",
        "    plt.plot(history.history['val_accuracy'], label='Validation Accuracy')\n",
        "    plt.legend()\n",
        "    plt.title('Model Accuracy')\n",
        "\n",
        "    plt.subplot(1, 2, 2)\n",
        "    plt.plot(history.history['loss'], label='Train Loss')\n",
        "    plt.plot(history.history['val_loss'], label='Validation Loss')\n",
        "    plt.legend()\n",
        "    plt.title('Model Loss')\n",
        "    plt.show()\n",
        "\n",
        "plot_training_history(history)\n"
      ],
      "metadata": {
        "id": "MSgfmHbn9bi-"
      },
      "execution_count": null,
      "outputs": []
    }
  ]
}