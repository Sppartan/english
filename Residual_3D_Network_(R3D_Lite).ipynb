{
  "nbformat": 4,
  "nbformat_minor": 0,
  "metadata": {
    "colab": {
      "provenance": [],
      "gpuType": "T4"
    },
    "kernelspec": {
      "name": "python3",
      "display_name": "Python 3"
    },
    "language_info": {
      "name": "python"
    },
    "accelerator": "GPU"
  },
  "cells": [
    {
      "cell_type": "code",
      "execution_count": null,
      "metadata": {
        "colab": {
          "base_uri": "https://localhost:8080/"
        },
        "id": "olL7UCRfmsC8",
        "outputId": "713dde8d-199d-4491-e59f-9bd53d4a2a27"
      },
      "outputs": [
        {
          "output_type": "stream",
          "name": "stdout",
          "text": [
            "Found existing installation: numpy 2.0.2\n",
            "Uninstalling numpy-2.0.2:\n",
            "  Successfully uninstalled numpy-2.0.2\n"
          ]
        }
      ],
      "source": [
        "!pip uninstall -y numpy"
      ]
    },
    {
      "cell_type": "code",
      "source": [
        "!pip install --no-cache-dir numpy==1.26.3"
      ],
      "metadata": {
        "colab": {
          "base_uri": "https://localhost:8080/",
          "height": 289
        },
        "id": "5RzNlClNnJa2",
        "outputId": "fdc84d6b-a63f-4886-9a0f-99dbbc88d3c7"
      },
      "execution_count": null,
      "outputs": [
        {
          "output_type": "stream",
          "name": "stdout",
          "text": [
            "Collecting numpy==1.26.3\n",
            "  Downloading numpy-1.26.3-cp311-cp311-manylinux_2_17_x86_64.manylinux2014_x86_64.whl.metadata (61 kB)\n",
            "\u001b[?25l     \u001b[90m━━━━━━━━━━━━━━━━━━━━━━━━━━━━━━━━━━━━━━━━\u001b[0m \u001b[32m0.0/61.2 kB\u001b[0m \u001b[31m?\u001b[0m eta \u001b[36m-:--:--\u001b[0m\r\u001b[2K     \u001b[90m━━━━━━━━━━━━━━━━━━━━━━━━━━━━━━━━━━━━━━━━\u001b[0m \u001b[32m61.2/61.2 kB\u001b[0m \u001b[31m4.9 MB/s\u001b[0m eta \u001b[36m0:00:00\u001b[0m\n",
            "\u001b[?25hDownloading numpy-1.26.3-cp311-cp311-manylinux_2_17_x86_64.manylinux2014_x86_64.whl (18.3 MB)\n",
            "\u001b[2K   \u001b[90m━━━━━━━━━━━━━━━━━━━━━━━━━━━━━━━━━━━━━━━━\u001b[0m \u001b[32m18.3/18.3 MB\u001b[0m \u001b[31m235.0 MB/s\u001b[0m eta \u001b[36m0:00:00\u001b[0m\n",
            "\u001b[?25hInstalling collected packages: numpy\n",
            "\u001b[31mERROR: pip's dependency resolver does not currently take into account all the packages that are installed. This behaviour is the source of the following dependency conflicts.\n",
            "thinc 8.3.6 requires numpy<3.0.0,>=2.0.0, but you have numpy 1.26.3 which is incompatible.\u001b[0m\u001b[31m\n",
            "\u001b[0mSuccessfully installed numpy-1.26.3\n"
          ]
        },
        {
          "output_type": "display_data",
          "data": {
            "application/vnd.colab-display-data+json": {
              "pip_warning": {
                "packages": [
                  "numpy"
                ]
              },
              "id": "4324488e280747dfbb93c4e16557d34e"
            }
          },
          "metadata": {}
        }
      ]
    },
    {
      "cell_type": "code",
      "source": [
        "import os\n",
        "os.kill(os.getpid(), 9)"
      ],
      "metadata": {
        "id": "WHJAC2XcnMbq"
      },
      "execution_count": null,
      "outputs": []
    },
    {
      "cell_type": "code",
      "source": [
        "import numpy\n",
        "numpy.__version__\n",
        "\n"
      ],
      "metadata": {
        "id": "tEjIVHVEnOGR",
        "colab": {
          "base_uri": "https://localhost:8080/",
          "height": 35
        },
        "outputId": "e372571c-4cd4-452c-85fd-5b689aa0f938"
      },
      "execution_count": null,
      "outputs": [
        {
          "output_type": "execute_result",
          "data": {
            "text/plain": [
              "'1.26.3'"
            ],
            "application/vnd.google.colaboratory.intrinsic+json": {
              "type": "string"
            }
          },
          "metadata": {},
          "execution_count": 1
        }
      ]
    },
    {
      "cell_type": "code",
      "source": [
        "from google.colab import drive\n",
        "drive.mount('/content/drive')"
      ],
      "metadata": {
        "id": "3aUYenFJnPVJ",
        "colab": {
          "base_uri": "https://localhost:8080/"
        },
        "outputId": "b19b25e5-0a08-4caf-d090-47e745ef9874"
      },
      "execution_count": null,
      "outputs": [
        {
          "output_type": "stream",
          "name": "stdout",
          "text": [
            "Mounted at /content/drive\n"
          ]
        }
      ]
    },
    {
      "cell_type": "code",
      "source": [
        "save_path_videos = '/content/drive/MyDrive/paths/dataset_Videos.npy'\n",
        "save_path_labels = '/content/drive/MyDrive/paths/dataset_labels.npy'"
      ],
      "metadata": {
        "id": "JZssoKsNnQnZ"
      },
      "execution_count": null,
      "outputs": []
    },
    {
      "cell_type": "code",
      "source": [
        "import numpy as np\n",
        "\n",
        "videos = np.load(save_path_videos)\n",
        "labels = np.load(save_path_labels)"
      ],
      "metadata": {
        "id": "gKSFM3cznSbh"
      },
      "execution_count": null,
      "outputs": []
    },
    {
      "cell_type": "code",
      "source": [
        "# Print the shape of the videos and labels arrays\n",
        "print(\"Videos shape:\", videos.shape)\n",
        "print(\"Labels shape:\", labels.shape)"
      ],
      "metadata": {
        "colab": {
          "base_uri": "https://localhost:8080/"
        },
        "id": "ML5JPwWxnUMx",
        "outputId": "5b63788d-c2d7-4ee3-9b0f-b962e3b4b0fd"
      },
      "execution_count": null,
      "outputs": [
        {
          "output_type": "stream",
          "name": "stdout",
          "text": [
            "Videos shape: (4050, 22, 80, 112, 1)\n",
            "Labels shape: (4050,)\n"
          ]
        }
      ]
    },
    {
      "cell_type": "code",
      "source": [
        "from sklearn.preprocessing import LabelEncoder\n",
        "from tensorflow.keras.utils import to_categorical\n",
        "\n",
        "# Encode the labels into numerical values\n",
        "label_encoder = LabelEncoder()\n",
        "labels_encoded = label_encoder.fit_transform(labels)\n",
        "\n",
        "# One-hot encode the labels\n",
        "labels_onehot = to_categorical(labels_encoded)\n",
        "\n",
        "# Display the mapping\n",
        "print(\"✅ Label encoding mapping:\")\n",
        "for i, label in enumerate(label_encoder.classes_):\n",
        "    print(f\"{i} → {label}\")\n",
        "\n",
        "print(\"✅ Labels encoded and one-hot encoded.\")\n"
      ],
      "metadata": {
        "colab": {
          "base_uri": "https://localhost:8080/"
        },
        "id": "cpCEMWYNnXKR",
        "outputId": "417f4ef0-6b8d-472b-f7ca-46c498987898"
      },
      "execution_count": null,
      "outputs": [
        {
          "output_type": "stream",
          "name": "stdout",
          "text": [
            "✅ Label encoding mapping:\n",
            "0 → a\n",
            "1 → bye\n",
            "2 → can\n",
            "3 → cat\n",
            "4 → demo\n",
            "5 → dog\n",
            "6 → hello\n",
            "7 → here\n",
            "8 → is\n",
            "9 → lips\n",
            "10 → my\n",
            "11 → read\n",
            "12 → you\n",
            "✅ Labels encoded and one-hot encoded.\n"
          ]
        }
      ]
    },
    {
      "cell_type": "code",
      "source": [
        "label_dict = {0:\"a\", 1: \"bye\", 2:\"can\", 3:\"cat\", 4:\"demo\", 5:\"dog\", 6: \"hello\", 7:\"here\", 8:\"is\", 9:\"lips\", 10:\"my\", 11:\"read\", 12:\"you\"}"
      ],
      "metadata": {
        "id": "pwPRp8TgnYTh"
      },
      "execution_count": null,
      "outputs": []
    },
    {
      "cell_type": "code",
      "source": [
        "from sklearn.model_selection import train_test_split\n",
        "\n",
        "# Split into training and validation sets\n",
        "X_train, X_val, y_train, y_val = train_test_split(\n",
        "    videos, labels_onehot, test_size=0.2, random_state=42, stratify=labels_encoded\n",
        ")\n",
        "\n",
        "print(f\"Training set: {X_train.shape}, {y_train.shape}\")\n",
        "print(f\"Validation set: {X_val.shape}, {y_val.shape}\")\n"
      ],
      "metadata": {
        "colab": {
          "base_uri": "https://localhost:8080/"
        },
        "id": "g9rDGvQYnaBa",
        "outputId": "8a00c8b3-ee36-4a31-f3d6-f6d0bb8f501f"
      },
      "execution_count": null,
      "outputs": [
        {
          "output_type": "stream",
          "name": "stdout",
          "text": [
            "Training set: (3240, 22, 80, 112, 1), (3240, 13)\n",
            "Validation set: (810, 22, 80, 112, 1), (810, 13)\n"
          ]
        }
      ]
    },
    {
      "cell_type": "code",
      "source": [
        "import gc\n",
        "gc.collect()\n",
        "!cat /proc/meminfo | grep Mem\n"
      ],
      "metadata": {
        "colab": {
          "base_uri": "https://localhost:8080/"
        },
        "id": "veJAV4lAnbRo",
        "outputId": "e1ec1cb7-8f5d-47bd-f374-b312dc1fd3f4"
      },
      "execution_count": null,
      "outputs": [
        {
          "output_type": "stream",
          "name": "stdout",
          "text": [
            "MemTotal:       13289424 kB\n",
            "MemFree:          137308 kB\n",
            "MemAvailable:    5388924 kB\n"
          ]
        }
      ]
    },
    {
      "cell_type": "code",
      "source": [
        "del videos\n",
        "del labels\n",
        "del labels_encoded\n",
        "del labels_onehot"
      ],
      "metadata": {
        "id": "xNQRvAGODbTl"
      },
      "execution_count": null,
      "outputs": []
    },
    {
      "cell_type": "code",
      "source": [
        "# =============================================================================\n",
        "# 5. Residual 3D Network (R3D-Lite) - Fixed Version\n",
        "# =============================================================================\n",
        "import tensorflow as tf\n",
        "from tensorflow import keras\n",
        "from tensorflow.keras import layers, Model\n",
        "import numpy as np\n",
        "from tensorflow.keras.optimizers import Adam\n",
        "\n",
        "class Residual3DBlock(layers.Layer):\n",
        "    \"\"\"3D Residual block for video processing\"\"\"\n",
        "\n",
        "    def __init__(self, filters, kernel_size=(3, 3, 3), strides=(1, 1, 1), **kwargs):\n",
        "        super(Residual3DBlock, self).__init__(**kwargs)\n",
        "        self.filters = filters\n",
        "        self.kernel_size = kernel_size\n",
        "        self.strides = strides\n",
        "\n",
        "        # Main path\n",
        "        self.conv1 = layers.Conv3D(\n",
        "            filters, kernel_size, strides=strides, padding='same', activation='relu'\n",
        "        )\n",
        "        self.bn1 = layers.BatchNormalization()\n",
        "\n",
        "        self.conv2 = layers.Conv3D(\n",
        "            filters, kernel_size, padding='same'\n",
        "        )\n",
        "        self.bn2 = layers.BatchNormalization()\n",
        "\n",
        "        # Shortcut path (if dimensions change)\n",
        "        self.shortcut_conv = None\n",
        "        self.shortcut_bn = None\n",
        "\n",
        "    def build(self, input_shape):\n",
        "        super(Residual3DBlock, self).build(input_shape)\n",
        "        # Add shortcut conv if needed\n",
        "        if (input_shape[-1] != self.filters or\n",
        "            any(s != 1 for s in self.strides)):\n",
        "            self.shortcut_conv = layers.Conv3D(\n",
        "                self.filters, (1, 1, 1), strides=self.strides, padding='same'\n",
        "            )\n",
        "            self.shortcut_bn = layers.BatchNormalization()\n",
        "\n",
        "    def call(self, inputs, training=None):\n",
        "        # Main path\n",
        "        x = self.conv1(inputs)\n",
        "        x = self.bn1(x, training=training)\n",
        "        x = tf.nn.relu(x)\n",
        "\n",
        "        x = self.conv2(x)\n",
        "        x = self.bn2(x, training=training)\n",
        "\n",
        "        # Shortcut path\n",
        "        if self.shortcut_conv:\n",
        "            shortcut = self.shortcut_conv(inputs)\n",
        "            shortcut = self.shortcut_bn(shortcut, training=training)\n",
        "        else:\n",
        "            shortcut = inputs\n",
        "\n",
        "        # Add and activate\n",
        "        x = x + shortcut\n",
        "        return tf.nn.relu(x)\n",
        "\n",
        "class TransposeLayer(layers.Layer):\n",
        "    \"\"\"Custom layer to handle transpose operation in functional API\"\"\"\n",
        "\n",
        "    def __init__(self, perm, **kwargs):\n",
        "        super(TransposeLayer, self).__init__(**kwargs)\n",
        "        self.perm = perm\n",
        "\n",
        "    def call(self, inputs):\n",
        "        return tf.transpose(inputs, self.perm)\n",
        "\n",
        "    def get_config(self):\n",
        "        config = super(TransposeLayer, self).get_config()\n",
        "        config.update({'perm': self.perm})\n",
        "        return config\n",
        "\n",
        "def create_r3d_lite_model(input_shape=(22, 80, 112, 1), num_classes=13):\n",
        "    \"\"\"\n",
        "    Lightweight Residual 3D Network for lip reading\n",
        "\n",
        "    Args:\n",
        "        input_shape: (sequence_length, height, width, channels)\n",
        "        num_classes: Number of output classes\n",
        "    \"\"\"\n",
        "    inputs = layers.Input(shape=input_shape)\n",
        "\n",
        "    # The input is already in the correct format for 3D convolution\n",
        "    # (batch, sequence_length, height, width, channels)\n",
        "    # For 3D convolution, we need (batch, depth, height, width, channels)\n",
        "    # Since sequence_length represents the temporal dimension (depth), no transpose needed\n",
        "    x = inputs\n",
        "\n",
        "    # Initial 3D convolution\n",
        "    x = layers.Conv3D(32, (3, 3, 3), strides=(1, 2, 2), padding='same', activation='relu')(x)\n",
        "    x = layers.BatchNormalization()(x)\n",
        "    x = layers.MaxPooling3D((1, 2, 2), strides=(1, 2, 2))(x)\n",
        "\n",
        "    # Residual blocks\n",
        "    x = Residual3DBlock(64, strides=(1, 1, 1))(x)\n",
        "    x = Residual3DBlock(64)(x)\n",
        "\n",
        "    x = Residual3DBlock(128, strides=(2, 2, 2))(x)\n",
        "    x = Residual3DBlock(128)(x)\n",
        "\n",
        "    x = Residual3DBlock(256, strides=(2, 1, 1))(x)\n",
        "    x = Residual3DBlock(256)(x)\n",
        "\n",
        "    # Global average pooling\n",
        "    x = layers.GlobalAveragePooling3D()(x)\n",
        "\n",
        "    # Classification head\n",
        "    x = layers.Dense(512, activation='relu')(x)\n",
        "    x = layers.Dropout(0.5)(x)\n",
        "    x = layers.Dense(256, activation='relu')(x)\n",
        "    x = layers.Dropout(0.3)(x)\n",
        "    outputs = layers.Dense(num_classes, activation='softmax')(x)\n",
        "\n",
        "    model = Model(inputs=inputs, outputs=outputs, name='R3D_Lite')\n",
        "    return model\n",
        "\n",
        "# Example usage\n",
        "print(\"=== Residual 3D Network (R3D-Lite) ===\")\n",
        "r3d_model = create_r3d_lite_model(input_shape=(22, 80, 112, 1), num_classes=13)\n",
        "r3d_model.compile(optimizer=Adam(1e-4), loss='categorical_crossentropy', metrics=['accuracy'])\n",
        "r3d_model.summary()\n",
        "print()"
      ],
      "metadata": {
        "id": "ecChbMBCtBFW",
        "colab": {
          "base_uri": "https://localhost:8080/",
          "height": 851
        },
        "outputId": "c7d6997d-6359-49d5-b5a2-7ba8180a9630"
      },
      "execution_count": null,
      "outputs": [
        {
          "output_type": "stream",
          "name": "stdout",
          "text": [
            "=== Residual 3D Network (R3D-Lite) ===\n"
          ]
        },
        {
          "output_type": "display_data",
          "data": {
            "text/plain": [
              "\u001b[1mModel: \"R3D_Lite\"\u001b[0m\n"
            ],
            "text/html": [
              "<pre style=\"white-space:pre;overflow-x:auto;line-height:normal;font-family:Menlo,'DejaVu Sans Mono',consolas,'Courier New',monospace\"><span style=\"font-weight: bold\">Model: \"R3D_Lite\"</span>\n",
              "</pre>\n"
            ]
          },
          "metadata": {}
        },
        {
          "output_type": "display_data",
          "data": {
            "text/plain": [
              "┏━━━━━━━━━━━━━━━━━━━━━━━━━━━━━━━━━┳━━━━━━━━━━━━━━━━━━━━━━━━┳━━━━━━━━━━━━━━━┓\n",
              "┃\u001b[1m \u001b[0m\u001b[1mLayer (type)                   \u001b[0m\u001b[1m \u001b[0m┃\u001b[1m \u001b[0m\u001b[1mOutput Shape          \u001b[0m\u001b[1m \u001b[0m┃\u001b[1m \u001b[0m\u001b[1m      Param #\u001b[0m\u001b[1m \u001b[0m┃\n",
              "┡━━━━━━━━━━━━━━━━━━━━━━━━━━━━━━━━━╇━━━━━━━━━━━━━━━━━━━━━━━━╇━━━━━━━━━━━━━━━┩\n",
              "│ input_layer_1 (\u001b[38;5;33mInputLayer\u001b[0m)      │ (\u001b[38;5;45mNone\u001b[0m, \u001b[38;5;34m22\u001b[0m, \u001b[38;5;34m80\u001b[0m, \u001b[38;5;34m112\u001b[0m, \u001b[38;5;34m1\u001b[0m) │             \u001b[38;5;34m0\u001b[0m │\n",
              "├─────────────────────────────────┼────────────────────────┼───────────────┤\n",
              "│ conv3d (\u001b[38;5;33mConv3D\u001b[0m)                 │ (\u001b[38;5;45mNone\u001b[0m, \u001b[38;5;34m22\u001b[0m, \u001b[38;5;34m40\u001b[0m, \u001b[38;5;34m56\u001b[0m, \u001b[38;5;34m32\u001b[0m) │           \u001b[38;5;34m896\u001b[0m │\n",
              "├─────────────────────────────────┼────────────────────────┼───────────────┤\n",
              "│ batch_normalization             │ (\u001b[38;5;45mNone\u001b[0m, \u001b[38;5;34m22\u001b[0m, \u001b[38;5;34m40\u001b[0m, \u001b[38;5;34m56\u001b[0m, \u001b[38;5;34m32\u001b[0m) │           \u001b[38;5;34m128\u001b[0m │\n",
              "│ (\u001b[38;5;33mBatchNormalization\u001b[0m)            │                        │               │\n",
              "├─────────────────────────────────┼────────────────────────┼───────────────┤\n",
              "│ max_pooling3d (\u001b[38;5;33mMaxPooling3D\u001b[0m)    │ (\u001b[38;5;45mNone\u001b[0m, \u001b[38;5;34m22\u001b[0m, \u001b[38;5;34m20\u001b[0m, \u001b[38;5;34m28\u001b[0m, \u001b[38;5;34m32\u001b[0m) │             \u001b[38;5;34m0\u001b[0m │\n",
              "├─────────────────────────────────┼────────────────────────┼───────────────┤\n",
              "│ residual3d_block                │ (\u001b[38;5;45mNone\u001b[0m, \u001b[38;5;34m22\u001b[0m, \u001b[38;5;34m20\u001b[0m, \u001b[38;5;34m28\u001b[0m, \u001b[38;5;34m64\u001b[0m) │       \u001b[38;5;34m168,896\u001b[0m │\n",
              "│ (\u001b[38;5;33mResidual3DBlock\u001b[0m)               │                        │               │\n",
              "├─────────────────────────────────┼────────────────────────┼───────────────┤\n",
              "│ residual3d_block_1              │ (\u001b[38;5;45mNone\u001b[0m, \u001b[38;5;34m22\u001b[0m, \u001b[38;5;34m20\u001b[0m, \u001b[38;5;34m28\u001b[0m, \u001b[38;5;34m64\u001b[0m) │       \u001b[38;5;34m221,824\u001b[0m │\n",
              "│ (\u001b[38;5;33mResidual3DBlock\u001b[0m)               │                        │               │\n",
              "├─────────────────────────────────┼────────────────────────┼───────────────┤\n",
              "│ residual3d_block_2              │ (\u001b[38;5;45mNone\u001b[0m, \u001b[38;5;34m11\u001b[0m, \u001b[38;5;34m10\u001b[0m, \u001b[38;5;34m14\u001b[0m,     │       \u001b[38;5;34m673,664\u001b[0m │\n",
              "│ (\u001b[38;5;33mResidual3DBlock\u001b[0m)               │ \u001b[38;5;34m128\u001b[0m)                   │               │\n",
              "├─────────────────────────────────┼────────────────────────┼───────────────┤\n",
              "│ residual3d_block_3              │ (\u001b[38;5;45mNone\u001b[0m, \u001b[38;5;34m11\u001b[0m, \u001b[38;5;34m10\u001b[0m, \u001b[38;5;34m14\u001b[0m,     │       \u001b[38;5;34m886,016\u001b[0m │\n",
              "│ (\u001b[38;5;33mResidual3DBlock\u001b[0m)               │ \u001b[38;5;34m128\u001b[0m)                   │               │\n",
              "├─────────────────────────────────┼────────────────────────┼───────────────┤\n",
              "│ residual3d_block_4              │ (\u001b[38;5;45mNone\u001b[0m, \u001b[38;5;34m6\u001b[0m, \u001b[38;5;34m10\u001b[0m, \u001b[38;5;34m14\u001b[0m, \u001b[38;5;34m256\u001b[0m) │     \u001b[38;5;34m2,690,816\u001b[0m │\n",
              "│ (\u001b[38;5;33mResidual3DBlock\u001b[0m)               │                        │               │\n",
              "├─────────────────────────────────┼────────────────────────┼───────────────┤\n",
              "│ residual3d_block_5              │ (\u001b[38;5;45mNone\u001b[0m, \u001b[38;5;34m6\u001b[0m, \u001b[38;5;34m10\u001b[0m, \u001b[38;5;34m14\u001b[0m, \u001b[38;5;34m256\u001b[0m) │     \u001b[38;5;34m3,541,504\u001b[0m │\n",
              "│ (\u001b[38;5;33mResidual3DBlock\u001b[0m)               │                        │               │\n",
              "├─────────────────────────────────┼────────────────────────┼───────────────┤\n",
              "│ global_average_pooling3d        │ (\u001b[38;5;45mNone\u001b[0m, \u001b[38;5;34m256\u001b[0m)            │             \u001b[38;5;34m0\u001b[0m │\n",
              "│ (\u001b[38;5;33mGlobalAveragePooling3D\u001b[0m)        │                        │               │\n",
              "├─────────────────────────────────┼────────────────────────┼───────────────┤\n",
              "│ dense (\u001b[38;5;33mDense\u001b[0m)                   │ (\u001b[38;5;45mNone\u001b[0m, \u001b[38;5;34m512\u001b[0m)            │       \u001b[38;5;34m131,584\u001b[0m │\n",
              "├─────────────────────────────────┼────────────────────────┼───────────────┤\n",
              "│ dropout (\u001b[38;5;33mDropout\u001b[0m)               │ (\u001b[38;5;45mNone\u001b[0m, \u001b[38;5;34m512\u001b[0m)            │             \u001b[38;5;34m0\u001b[0m │\n",
              "├─────────────────────────────────┼────────────────────────┼───────────────┤\n",
              "│ dense_1 (\u001b[38;5;33mDense\u001b[0m)                 │ (\u001b[38;5;45mNone\u001b[0m, \u001b[38;5;34m256\u001b[0m)            │       \u001b[38;5;34m131,328\u001b[0m │\n",
              "├─────────────────────────────────┼────────────────────────┼───────────────┤\n",
              "│ dropout_1 (\u001b[38;5;33mDropout\u001b[0m)             │ (\u001b[38;5;45mNone\u001b[0m, \u001b[38;5;34m256\u001b[0m)            │             \u001b[38;5;34m0\u001b[0m │\n",
              "├─────────────────────────────────┼────────────────────────┼───────────────┤\n",
              "│ dense_2 (\u001b[38;5;33mDense\u001b[0m)                 │ (\u001b[38;5;45mNone\u001b[0m, \u001b[38;5;34m13\u001b[0m)             │         \u001b[38;5;34m3,341\u001b[0m │\n",
              "└─────────────────────────────────┴────────────────────────┴───────────────┘\n"
            ],
            "text/html": [
              "<pre style=\"white-space:pre;overflow-x:auto;line-height:normal;font-family:Menlo,'DejaVu Sans Mono',consolas,'Courier New',monospace\">┏━━━━━━━━━━━━━━━━━━━━━━━━━━━━━━━━━┳━━━━━━━━━━━━━━━━━━━━━━━━┳━━━━━━━━━━━━━━━┓\n",
              "┃<span style=\"font-weight: bold\"> Layer (type)                    </span>┃<span style=\"font-weight: bold\"> Output Shape           </span>┃<span style=\"font-weight: bold\">       Param # </span>┃\n",
              "┡━━━━━━━━━━━━━━━━━━━━━━━━━━━━━━━━━╇━━━━━━━━━━━━━━━━━━━━━━━━╇━━━━━━━━━━━━━━━┩\n",
              "│ input_layer_1 (<span style=\"color: #0087ff; text-decoration-color: #0087ff\">InputLayer</span>)      │ (<span style=\"color: #00d7ff; text-decoration-color: #00d7ff\">None</span>, <span style=\"color: #00af00; text-decoration-color: #00af00\">22</span>, <span style=\"color: #00af00; text-decoration-color: #00af00\">80</span>, <span style=\"color: #00af00; text-decoration-color: #00af00\">112</span>, <span style=\"color: #00af00; text-decoration-color: #00af00\">1</span>) │             <span style=\"color: #00af00; text-decoration-color: #00af00\">0</span> │\n",
              "├─────────────────────────────────┼────────────────────────┼───────────────┤\n",
              "│ conv3d (<span style=\"color: #0087ff; text-decoration-color: #0087ff\">Conv3D</span>)                 │ (<span style=\"color: #00d7ff; text-decoration-color: #00d7ff\">None</span>, <span style=\"color: #00af00; text-decoration-color: #00af00\">22</span>, <span style=\"color: #00af00; text-decoration-color: #00af00\">40</span>, <span style=\"color: #00af00; text-decoration-color: #00af00\">56</span>, <span style=\"color: #00af00; text-decoration-color: #00af00\">32</span>) │           <span style=\"color: #00af00; text-decoration-color: #00af00\">896</span> │\n",
              "├─────────────────────────────────┼────────────────────────┼───────────────┤\n",
              "│ batch_normalization             │ (<span style=\"color: #00d7ff; text-decoration-color: #00d7ff\">None</span>, <span style=\"color: #00af00; text-decoration-color: #00af00\">22</span>, <span style=\"color: #00af00; text-decoration-color: #00af00\">40</span>, <span style=\"color: #00af00; text-decoration-color: #00af00\">56</span>, <span style=\"color: #00af00; text-decoration-color: #00af00\">32</span>) │           <span style=\"color: #00af00; text-decoration-color: #00af00\">128</span> │\n",
              "│ (<span style=\"color: #0087ff; text-decoration-color: #0087ff\">BatchNormalization</span>)            │                        │               │\n",
              "├─────────────────────────────────┼────────────────────────┼───────────────┤\n",
              "│ max_pooling3d (<span style=\"color: #0087ff; text-decoration-color: #0087ff\">MaxPooling3D</span>)    │ (<span style=\"color: #00d7ff; text-decoration-color: #00d7ff\">None</span>, <span style=\"color: #00af00; text-decoration-color: #00af00\">22</span>, <span style=\"color: #00af00; text-decoration-color: #00af00\">20</span>, <span style=\"color: #00af00; text-decoration-color: #00af00\">28</span>, <span style=\"color: #00af00; text-decoration-color: #00af00\">32</span>) │             <span style=\"color: #00af00; text-decoration-color: #00af00\">0</span> │\n",
              "├─────────────────────────────────┼────────────────────────┼───────────────┤\n",
              "│ residual3d_block                │ (<span style=\"color: #00d7ff; text-decoration-color: #00d7ff\">None</span>, <span style=\"color: #00af00; text-decoration-color: #00af00\">22</span>, <span style=\"color: #00af00; text-decoration-color: #00af00\">20</span>, <span style=\"color: #00af00; text-decoration-color: #00af00\">28</span>, <span style=\"color: #00af00; text-decoration-color: #00af00\">64</span>) │       <span style=\"color: #00af00; text-decoration-color: #00af00\">168,896</span> │\n",
              "│ (<span style=\"color: #0087ff; text-decoration-color: #0087ff\">Residual3DBlock</span>)               │                        │               │\n",
              "├─────────────────────────────────┼────────────────────────┼───────────────┤\n",
              "│ residual3d_block_1              │ (<span style=\"color: #00d7ff; text-decoration-color: #00d7ff\">None</span>, <span style=\"color: #00af00; text-decoration-color: #00af00\">22</span>, <span style=\"color: #00af00; text-decoration-color: #00af00\">20</span>, <span style=\"color: #00af00; text-decoration-color: #00af00\">28</span>, <span style=\"color: #00af00; text-decoration-color: #00af00\">64</span>) │       <span style=\"color: #00af00; text-decoration-color: #00af00\">221,824</span> │\n",
              "│ (<span style=\"color: #0087ff; text-decoration-color: #0087ff\">Residual3DBlock</span>)               │                        │               │\n",
              "├─────────────────────────────────┼────────────────────────┼───────────────┤\n",
              "│ residual3d_block_2              │ (<span style=\"color: #00d7ff; text-decoration-color: #00d7ff\">None</span>, <span style=\"color: #00af00; text-decoration-color: #00af00\">11</span>, <span style=\"color: #00af00; text-decoration-color: #00af00\">10</span>, <span style=\"color: #00af00; text-decoration-color: #00af00\">14</span>,     │       <span style=\"color: #00af00; text-decoration-color: #00af00\">673,664</span> │\n",
              "│ (<span style=\"color: #0087ff; text-decoration-color: #0087ff\">Residual3DBlock</span>)               │ <span style=\"color: #00af00; text-decoration-color: #00af00\">128</span>)                   │               │\n",
              "├─────────────────────────────────┼────────────────────────┼───────────────┤\n",
              "│ residual3d_block_3              │ (<span style=\"color: #00d7ff; text-decoration-color: #00d7ff\">None</span>, <span style=\"color: #00af00; text-decoration-color: #00af00\">11</span>, <span style=\"color: #00af00; text-decoration-color: #00af00\">10</span>, <span style=\"color: #00af00; text-decoration-color: #00af00\">14</span>,     │       <span style=\"color: #00af00; text-decoration-color: #00af00\">886,016</span> │\n",
              "│ (<span style=\"color: #0087ff; text-decoration-color: #0087ff\">Residual3DBlock</span>)               │ <span style=\"color: #00af00; text-decoration-color: #00af00\">128</span>)                   │               │\n",
              "├─────────────────────────────────┼────────────────────────┼───────────────┤\n",
              "│ residual3d_block_4              │ (<span style=\"color: #00d7ff; text-decoration-color: #00d7ff\">None</span>, <span style=\"color: #00af00; text-decoration-color: #00af00\">6</span>, <span style=\"color: #00af00; text-decoration-color: #00af00\">10</span>, <span style=\"color: #00af00; text-decoration-color: #00af00\">14</span>, <span style=\"color: #00af00; text-decoration-color: #00af00\">256</span>) │     <span style=\"color: #00af00; text-decoration-color: #00af00\">2,690,816</span> │\n",
              "│ (<span style=\"color: #0087ff; text-decoration-color: #0087ff\">Residual3DBlock</span>)               │                        │               │\n",
              "├─────────────────────────────────┼────────────────────────┼───────────────┤\n",
              "│ residual3d_block_5              │ (<span style=\"color: #00d7ff; text-decoration-color: #00d7ff\">None</span>, <span style=\"color: #00af00; text-decoration-color: #00af00\">6</span>, <span style=\"color: #00af00; text-decoration-color: #00af00\">10</span>, <span style=\"color: #00af00; text-decoration-color: #00af00\">14</span>, <span style=\"color: #00af00; text-decoration-color: #00af00\">256</span>) │     <span style=\"color: #00af00; text-decoration-color: #00af00\">3,541,504</span> │\n",
              "│ (<span style=\"color: #0087ff; text-decoration-color: #0087ff\">Residual3DBlock</span>)               │                        │               │\n",
              "├─────────────────────────────────┼────────────────────────┼───────────────┤\n",
              "│ global_average_pooling3d        │ (<span style=\"color: #00d7ff; text-decoration-color: #00d7ff\">None</span>, <span style=\"color: #00af00; text-decoration-color: #00af00\">256</span>)            │             <span style=\"color: #00af00; text-decoration-color: #00af00\">0</span> │\n",
              "│ (<span style=\"color: #0087ff; text-decoration-color: #0087ff\">GlobalAveragePooling3D</span>)        │                        │               │\n",
              "├─────────────────────────────────┼────────────────────────┼───────────────┤\n",
              "│ dense (<span style=\"color: #0087ff; text-decoration-color: #0087ff\">Dense</span>)                   │ (<span style=\"color: #00d7ff; text-decoration-color: #00d7ff\">None</span>, <span style=\"color: #00af00; text-decoration-color: #00af00\">512</span>)            │       <span style=\"color: #00af00; text-decoration-color: #00af00\">131,584</span> │\n",
              "├─────────────────────────────────┼────────────────────────┼───────────────┤\n",
              "│ dropout (<span style=\"color: #0087ff; text-decoration-color: #0087ff\">Dropout</span>)               │ (<span style=\"color: #00d7ff; text-decoration-color: #00d7ff\">None</span>, <span style=\"color: #00af00; text-decoration-color: #00af00\">512</span>)            │             <span style=\"color: #00af00; text-decoration-color: #00af00\">0</span> │\n",
              "├─────────────────────────────────┼────────────────────────┼───────────────┤\n",
              "│ dense_1 (<span style=\"color: #0087ff; text-decoration-color: #0087ff\">Dense</span>)                 │ (<span style=\"color: #00d7ff; text-decoration-color: #00d7ff\">None</span>, <span style=\"color: #00af00; text-decoration-color: #00af00\">256</span>)            │       <span style=\"color: #00af00; text-decoration-color: #00af00\">131,328</span> │\n",
              "├─────────────────────────────────┼────────────────────────┼───────────────┤\n",
              "│ dropout_1 (<span style=\"color: #0087ff; text-decoration-color: #0087ff\">Dropout</span>)             │ (<span style=\"color: #00d7ff; text-decoration-color: #00d7ff\">None</span>, <span style=\"color: #00af00; text-decoration-color: #00af00\">256</span>)            │             <span style=\"color: #00af00; text-decoration-color: #00af00\">0</span> │\n",
              "├─────────────────────────────────┼────────────────────────┼───────────────┤\n",
              "│ dense_2 (<span style=\"color: #0087ff; text-decoration-color: #0087ff\">Dense</span>)                 │ (<span style=\"color: #00d7ff; text-decoration-color: #00d7ff\">None</span>, <span style=\"color: #00af00; text-decoration-color: #00af00\">13</span>)             │         <span style=\"color: #00af00; text-decoration-color: #00af00\">3,341</span> │\n",
              "└─────────────────────────────────┴────────────────────────┴───────────────┘\n",
              "</pre>\n"
            ]
          },
          "metadata": {}
        },
        {
          "output_type": "display_data",
          "data": {
            "text/plain": [
              "\u001b[1m Total params: \u001b[0m\u001b[38;5;34m8,449,997\u001b[0m (32.23 MB)\n"
            ],
            "text/html": [
              "<pre style=\"white-space:pre;overflow-x:auto;line-height:normal;font-family:Menlo,'DejaVu Sans Mono',consolas,'Courier New',monospace\"><span style=\"font-weight: bold\"> Total params: </span><span style=\"color: #00af00; text-decoration-color: #00af00\">8,449,997</span> (32.23 MB)\n",
              "</pre>\n"
            ]
          },
          "metadata": {}
        },
        {
          "output_type": "display_data",
          "data": {
            "text/plain": [
              "\u001b[1m Trainable params: \u001b[0m\u001b[38;5;34m8,445,453\u001b[0m (32.22 MB)\n"
            ],
            "text/html": [
              "<pre style=\"white-space:pre;overflow-x:auto;line-height:normal;font-family:Menlo,'DejaVu Sans Mono',consolas,'Courier New',monospace\"><span style=\"font-weight: bold\"> Trainable params: </span><span style=\"color: #00af00; text-decoration-color: #00af00\">8,445,453</span> (32.22 MB)\n",
              "</pre>\n"
            ]
          },
          "metadata": {}
        },
        {
          "output_type": "display_data",
          "data": {
            "text/plain": [
              "\u001b[1m Non-trainable params: \u001b[0m\u001b[38;5;34m4,544\u001b[0m (17.75 KB)\n"
            ],
            "text/html": [
              "<pre style=\"white-space:pre;overflow-x:auto;line-height:normal;font-family:Menlo,'DejaVu Sans Mono',consolas,'Courier New',monospace\"><span style=\"font-weight: bold\"> Non-trainable params: </span><span style=\"color: #00af00; text-decoration-color: #00af00\">4,544</span> (17.75 KB)\n",
              "</pre>\n"
            ]
          },
          "metadata": {}
        },
        {
          "output_type": "stream",
          "name": "stdout",
          "text": [
            "\n"
          ]
        }
      ]
    },
    {
      "cell_type": "code",
      "source": [
        "from tensorflow.keras.callbacks import EarlyStopping, ReduceLROnPlateau\n",
        "\n",
        "# Callbacks for better training\n",
        "early_stopping = EarlyStopping(monitor='val_loss', patience=5, restore_best_weights=True)\n",
        "lr_scheduler = ReduceLROnPlateau(monitor='val_loss', factor=0.5, patience=3, min_lr=1e-6)\n",
        "\n",
        "callbacks = [\n",
        "    EarlyStopping(patience=5, restore_best_weights=True),\n",
        "    ReduceLROnPlateau(patience=3, factor=0.5)\n",
        "]\n",
        "\n",
        "history = r3d_model.fit(X_train, y_train,\n",
        "             validation_data=(X_val, y_val),\n",
        "             epochs=80,\n",
        "             batch_size=8,\n",
        "             callbacks=callbacks)"
      ],
      "metadata": {
        "id": "xnBfXR69zT3R",
        "colab": {
          "base_uri": "https://localhost:8080/"
        },
        "outputId": "8ddc9dcf-f597-4115-e009-252d63900c04"
      },
      "execution_count": null,
      "outputs": [
        {
          "output_type": "stream",
          "name": "stdout",
          "text": [
            "Epoch 1/80\n",
            "\u001b[1m405/405\u001b[0m \u001b[32m━━━━━━━━━━━━━━━━━━━━\u001b[0m\u001b[37m\u001b[0m \u001b[1m135s\u001b[0m 268ms/step - accuracy: 0.0838 - loss: 2.8133 - val_accuracy: 0.1037 - val_loss: 2.6808 - learning_rate: 1.0000e-04\n",
            "Epoch 2/80\n",
            "\u001b[1m405/405\u001b[0m \u001b[32m━━━━━━━━━━━━━━━━━━━━\u001b[0m\u001b[37m\u001b[0m \u001b[1m95s\u001b[0m 234ms/step - accuracy: 0.0854 - loss: 2.6134 - val_accuracy: 0.0963 - val_loss: 2.5348 - learning_rate: 1.0000e-04\n",
            "Epoch 3/80\n",
            "\u001b[1m405/405\u001b[0m \u001b[32m━━━━━━━━━━━━━━━━━━━━\u001b[0m\u001b[37m\u001b[0m \u001b[1m94s\u001b[0m 233ms/step - accuracy: 0.1182 - loss: 2.5127 - val_accuracy: 0.1741 - val_loss: 2.3502 - learning_rate: 1.0000e-04\n",
            "Epoch 4/80\n",
            "\u001b[1m405/405\u001b[0m \u001b[32m━━━━━━━━━━━━━━━━━━━━\u001b[0m\u001b[37m\u001b[0m \u001b[1m96s\u001b[0m 237ms/step - accuracy: 0.2075 - loss: 2.2601 - val_accuracy: 0.4160 - val_loss: 1.7176 - learning_rate: 1.0000e-04\n",
            "Epoch 5/80\n",
            "\u001b[1m405/405\u001b[0m \u001b[32m━━━━━━━━━━━━━━━━━━━━\u001b[0m\u001b[37m\u001b[0m \u001b[1m96s\u001b[0m 237ms/step - accuracy: 0.3726 - loss: 1.8128 - val_accuracy: 0.5716 - val_loss: 1.3322 - learning_rate: 1.0000e-04\n",
            "Epoch 6/80\n",
            "\u001b[1m405/405\u001b[0m \u001b[32m━━━━━━━━━━━━━━━━━━━━\u001b[0m\u001b[37m\u001b[0m \u001b[1m142s\u001b[0m 237ms/step - accuracy: 0.4788 - loss: 1.4869 - val_accuracy: 0.5852 - val_loss: 1.2059 - learning_rate: 1.0000e-04\n",
            "Epoch 7/80\n",
            "\u001b[1m405/405\u001b[0m \u001b[32m━━━━━━━━━━━━━━━━━━━━\u001b[0m\u001b[37m\u001b[0m \u001b[1m142s\u001b[0m 237ms/step - accuracy: 0.5617 - loss: 1.2560 - val_accuracy: 0.5654 - val_loss: 1.1848 - learning_rate: 1.0000e-04\n",
            "Epoch 8/80\n",
            "\u001b[1m405/405\u001b[0m \u001b[32m━━━━━━━━━━━━━━━━━━━━\u001b[0m\u001b[37m\u001b[0m \u001b[1m142s\u001b[0m 237ms/step - accuracy: 0.6588 - loss: 0.9803 - val_accuracy: 0.7333 - val_loss: 0.7653 - learning_rate: 1.0000e-04\n",
            "Epoch 9/80\n",
            "\u001b[1m405/405\u001b[0m \u001b[32m━━━━━━━━━━━━━━━━━━━━\u001b[0m\u001b[37m\u001b[0m \u001b[1m140s\u001b[0m 233ms/step - accuracy: 0.7126 - loss: 0.8197 - val_accuracy: 0.7802 - val_loss: 0.6334 - learning_rate: 1.0000e-04\n",
            "Epoch 10/80\n",
            "\u001b[1m405/405\u001b[0m \u001b[32m━━━━━━━━━━━━━━━━━━━━\u001b[0m\u001b[37m\u001b[0m \u001b[1m144s\u001b[0m 237ms/step - accuracy: 0.7664 - loss: 0.7149 - val_accuracy: 0.7654 - val_loss: 0.6336 - learning_rate: 1.0000e-04\n",
            "Epoch 11/80\n",
            "\u001b[1m405/405\u001b[0m \u001b[32m━━━━━━━━━━━━━━━━━━━━\u001b[0m\u001b[37m\u001b[0m \u001b[1m142s\u001b[0m 237ms/step - accuracy: 0.8038 - loss: 0.5666 - val_accuracy: 0.8037 - val_loss: 0.5326 - learning_rate: 1.0000e-04\n",
            "Epoch 12/80\n",
            "\u001b[1m405/405\u001b[0m \u001b[32m━━━━━━━━━━━━━━━━━━━━\u001b[0m\u001b[37m\u001b[0m \u001b[1m140s\u001b[0m 232ms/step - accuracy: 0.8170 - loss: 0.5499 - val_accuracy: 0.8395 - val_loss: 0.4305 - learning_rate: 1.0000e-04\n",
            "Epoch 13/80\n",
            "\u001b[1m405/405\u001b[0m \u001b[32m━━━━━━━━━━━━━━━━━━━━\u001b[0m\u001b[37m\u001b[0m \u001b[1m94s\u001b[0m 232ms/step - accuracy: 0.8510 - loss: 0.4498 - val_accuracy: 0.7383 - val_loss: 0.9197 - learning_rate: 1.0000e-04\n",
            "Epoch 14/80\n",
            "\u001b[1m405/405\u001b[0m \u001b[32m━━━━━━━━━━━━━━━━━━━━\u001b[0m\u001b[37m\u001b[0m \u001b[1m144s\u001b[0m 237ms/step - accuracy: 0.8682 - loss: 0.3934 - val_accuracy: 0.7988 - val_loss: 0.5928 - learning_rate: 1.0000e-04\n",
            "Epoch 15/80\n",
            "\u001b[1m405/405\u001b[0m \u001b[32m━━━━━━━━━━━━━━━━━━━━\u001b[0m\u001b[37m\u001b[0m \u001b[1m142s\u001b[0m 237ms/step - accuracy: 0.8807 - loss: 0.3611 - val_accuracy: 0.8185 - val_loss: 0.6458 - learning_rate: 1.0000e-04\n",
            "Epoch 16/80\n",
            "\u001b[1m405/405\u001b[0m \u001b[32m━━━━━━━━━━━━━━━━━━━━\u001b[0m\u001b[37m\u001b[0m \u001b[1m140s\u001b[0m 232ms/step - accuracy: 0.9206 - loss: 0.2370 - val_accuracy: 0.8840 - val_loss: 0.3415 - learning_rate: 5.0000e-05\n",
            "Epoch 17/80\n",
            "\u001b[1m405/405\u001b[0m \u001b[32m━━━━━━━━━━━━━━━━━━━━\u001b[0m\u001b[37m\u001b[0m \u001b[1m142s\u001b[0m 232ms/step - accuracy: 0.9335 - loss: 0.1925 - val_accuracy: 0.9025 - val_loss: 0.3136 - learning_rate: 5.0000e-05\n",
            "Epoch 18/80\n",
            "\u001b[1m405/405\u001b[0m \u001b[32m━━━━━━━━━━━━━━━━━━━━\u001b[0m\u001b[37m\u001b[0m \u001b[1m144s\u001b[0m 237ms/step - accuracy: 0.9565 - loss: 0.1403 - val_accuracy: 0.9123 - val_loss: 0.2725 - learning_rate: 5.0000e-05\n",
            "Epoch 19/80\n",
            "\u001b[1m405/405\u001b[0m \u001b[32m━━━━━━━━━━━━━━━━━━━━\u001b[0m\u001b[37m\u001b[0m \u001b[1m142s\u001b[0m 237ms/step - accuracy: 0.9440 - loss: 0.1605 - val_accuracy: 0.9198 - val_loss: 0.2930 - learning_rate: 5.0000e-05\n",
            "Epoch 20/80\n",
            "\u001b[1m405/405\u001b[0m \u001b[32m━━━━━━━━━━━━━━━━━━━━\u001b[0m\u001b[37m\u001b[0m \u001b[1m140s\u001b[0m 233ms/step - accuracy: 0.9642 - loss: 0.1220 - val_accuracy: 0.9086 - val_loss: 0.3098 - learning_rate: 5.0000e-05\n",
            "Epoch 21/80\n",
            "\u001b[1m405/405\u001b[0m \u001b[32m━━━━━━━━━━━━━━━━━━━━\u001b[0m\u001b[37m\u001b[0m \u001b[1m96s\u001b[0m 236ms/step - accuracy: 0.9680 - loss: 0.0955 - val_accuracy: 0.9099 - val_loss: 0.3248 - learning_rate: 5.0000e-05\n",
            "Epoch 22/80\n",
            "\u001b[1m405/405\u001b[0m \u001b[32m━━━━━━━━━━━━━━━━━━━━\u001b[0m\u001b[37m\u001b[0m \u001b[1m96s\u001b[0m 236ms/step - accuracy: 0.9670 - loss: 0.0930 - val_accuracy: 0.9259 - val_loss: 0.2674 - learning_rate: 2.5000e-05\n",
            "Epoch 23/80\n",
            "\u001b[1m405/405\u001b[0m \u001b[32m━━━━━━━━━━━━━━━━━━━━\u001b[0m\u001b[37m\u001b[0m \u001b[1m94s\u001b[0m 232ms/step - accuracy: 0.9828 - loss: 0.0530 - val_accuracy: 0.9210 - val_loss: 0.3429 - learning_rate: 2.5000e-05\n",
            "Epoch 24/80\n",
            "\u001b[1m405/405\u001b[0m \u001b[32m━━━━━━━━━━━━━━━━━━━━\u001b[0m\u001b[37m\u001b[0m \u001b[1m142s\u001b[0m 232ms/step - accuracy: 0.9869 - loss: 0.0439 - val_accuracy: 0.9346 - val_loss: 0.2776 - learning_rate: 2.5000e-05\n",
            "Epoch 25/80\n",
            "\u001b[1m405/405\u001b[0m \u001b[32m━━━━━━━━━━━━━━━━━━━━\u001b[0m\u001b[37m\u001b[0m \u001b[1m144s\u001b[0m 236ms/step - accuracy: 0.9922 - loss: 0.0362 - val_accuracy: 0.9222 - val_loss: 0.3204 - learning_rate: 2.5000e-05\n",
            "Epoch 26/80\n",
            "\u001b[1m405/405\u001b[0m \u001b[32m━━━━━━━━━━━━━━━━━━━━\u001b[0m\u001b[37m\u001b[0m \u001b[1m94s\u001b[0m 232ms/step - accuracy: 0.9908 - loss: 0.0341 - val_accuracy: 0.9333 - val_loss: 0.2801 - learning_rate: 1.2500e-05\n",
            "Epoch 27/80\n",
            "\u001b[1m405/405\u001b[0m \u001b[32m━━━━━━━━━━━━━━━━━━━━\u001b[0m\u001b[37m\u001b[0m \u001b[1m142s\u001b[0m 232ms/step - accuracy: 0.9922 - loss: 0.0317 - val_accuracy: 0.9346 - val_loss: 0.2728 - learning_rate: 1.2500e-05\n"
          ]
        }
      ]
    },
    {
      "cell_type": "code",
      "source": [
        "def evaluate_model(model, name=\"Model\"):\n",
        "    loss, acc = model.evaluate(X_val, y_val, verbose=0)\n",
        "    print(f\"{name} - Validation Accuracy: {acc:.4f}, Loss: {loss:.4f}\")\n",
        "\n",
        "evaluate_model(r3d_model, \"Residual 3D Network \")\n",
        "\n"
      ],
      "metadata": {
        "colab": {
          "base_uri": "https://localhost:8080/"
        },
        "id": "tG2RCju_Etok",
        "outputId": "382cc937-6acf-409c-a07f-39929495db4e"
      },
      "execution_count": null,
      "outputs": [
        {
          "output_type": "stream",
          "name": "stdout",
          "text": [
            "Residual 3D Network  - Validation Accuracy: 0.9259, Loss: 0.2674\n"
          ]
        }
      ]
    },
    {
      "cell_type": "code",
      "source": [
        "# Save the trained model\n",
        "r3d_model.save(\"/content/drive/MyDrive/models/r3d.h5\")\n",
        "print(\"✅ Model saved.\")\n"
      ],
      "metadata": {
        "colab": {
          "base_uri": "https://localhost:8080/"
        },
        "id": "9HPD8VjjQh7W",
        "outputId": "700156cb-6973-45ad-8a56-3eedb7655da4"
      },
      "execution_count": null,
      "outputs": [
        {
          "output_type": "stream",
          "name": "stderr",
          "text": [
            "WARNING:absl:You are saving your model as an HDF5 file via `model.save()` or `keras.saving.save_model(model)`. This file format is considered legacy. We recommend using instead the native Keras format, e.g. `model.save('my_model.keras')` or `keras.saving.save_model(model, 'my_model.keras')`. \n"
          ]
        },
        {
          "output_type": "stream",
          "name": "stdout",
          "text": [
            "✅ Model saved.\n"
          ]
        }
      ]
    },
    {
      "cell_type": "code",
      "source": [
        "y_pred_prob = r3d_model.predict(X_val)\n",
        "y_pred = np.argmax(y_pred_prob, axis=1)"
      ],
      "metadata": {
        "colab": {
          "base_uri": "https://localhost:8080/"
        },
        "id": "4vONrgzQQua3",
        "outputId": "12897a42-a927-4b09-a9c9-56fb62e67867"
      },
      "execution_count": null,
      "outputs": [
        {
          "output_type": "stream",
          "name": "stdout",
          "text": [
            "\u001b[1m26/26\u001b[0m \u001b[32m━━━━━━━━━━━━━━━━━━━━\u001b[0m\u001b[37m\u001b[0m \u001b[1m9s\u001b[0m 303ms/step\n"
          ]
        }
      ]
    },
    {
      "cell_type": "code",
      "source": [
        "from prettytable import PrettyTable\n",
        "from sklearn.metrics import classification_report\n",
        "from tensorflow.keras.utils import to_categorical\n",
        "\n",
        "# Convert y_pred to one-hot encoded format to match y_val\n",
        "y_pred_onehot = to_categorical(y_pred, num_classes=y_val.shape[1])\n",
        "\n",
        "# Generate classification report\n",
        "report = classification_report(y_val, y_pred_onehot, output_dict=True)\n",
        "\n",
        "table = PrettyTable()\n",
        "table.field_names = [\"Class\", \"Precision\", \"Recall\", \"F1-Score\", \"Support\"]\n",
        "for label, metrics in report.items():\n",
        "    if label.isdigit():\n",
        "        precision = round(metrics['precision'], 2)\n",
        "        recall = round(metrics['recall'], 2)\n",
        "        f1_score = round(metrics['f1-score'], 2)\n",
        "        support = metrics['support']\n",
        "        table.add_row([label_dict[int(label)], precision, recall, f1_score, support])\n",
        "\n",
        "print(table)"
      ],
      "metadata": {
        "colab": {
          "base_uri": "https://localhost:8080/"
        },
        "id": "oelkYmOOQv5W",
        "outputId": "4aae9c09-9339-4230-bf31-1133ee4ef409"
      },
      "execution_count": null,
      "outputs": [
        {
          "output_type": "stream",
          "name": "stdout",
          "text": [
            "+-------+-----------+--------+----------+---------+\n",
            "| Class | Precision | Recall | F1-Score | Support |\n",
            "+-------+-----------+--------+----------+---------+\n",
            "|   a   |    0.91   |  0.81  |   0.86   |   64.0  |\n",
            "|  bye  |    0.8    |  0.89  |   0.84   |   62.0  |\n",
            "|  can  |    0.89   |  0.9   |   0.89   |   61.0  |\n",
            "|  cat  |    0.91   |  0.85  |   0.88   |   59.0  |\n",
            "|  demo |    1.0    |  0.95  |   0.98   |   62.0  |\n",
            "|  dog  |    0.98   |  0.98  |   0.98   |   60.0  |\n",
            "| hello |    0.96   |  0.95  |   0.96   |   57.0  |\n",
            "|  here |    0.93   |  0.97  |   0.95   |   66.0  |\n",
            "|   is  |    0.89   |  0.97  |   0.93   |   65.0  |\n",
            "|  lips |    0.97   |  0.98  |   0.98   |   64.0  |\n",
            "|   my  |    0.95   |  0.83  |   0.88   |   64.0  |\n",
            "|  read |    0.93   |  0.95  |   0.94   |   65.0  |\n",
            "|  you  |    0.95   |  1.0   |   0.98   |   61.0  |\n",
            "+-------+-----------+--------+----------+---------+\n"
          ]
        }
      ]
    },
    {
      "cell_type": "code",
      "source": [
        "from sklearn.metrics import confusion_matrix\n",
        "import seaborn as sns\n",
        "import matplotlib.pyplot as plt\n",
        "import sklearn\n",
        "\n",
        "# Convert y_val to multiclass format\n",
        "y_val_multiclass = np.argmax(y_val, axis=1)  # Convert one-hot to class indices\n",
        "\n",
        "# Now generate the confusion matrix\n",
        "conf_matrix = sklearn.metrics.confusion_matrix(y_val_multiclass, y_pred)\n",
        "\n",
        "# Define the list of label strings in the order of their integer values\n",
        "label_strings = [label_dict[i] for i in range(len(label_dict))]\n",
        "\n",
        "# Generate the heatmap confusion matrix\n",
        "sns.heatmap(conf_matrix, annot=True, cmap=\"Blues\", xticklabels=label_strings, yticklabels=label_strings)\n",
        "plt.xlabel(\"Predicted Labels\")\n",
        "plt.ylabel(\"True Labels\")\n",
        "plt.title(\"Confusion Matrix\")\n",
        "plt.show()"
      ],
      "metadata": {
        "colab": {
          "base_uri": "https://localhost:8080/",
          "height": 497
        },
        "id": "gePGo9sHQx1e",
        "outputId": "1e5545ae-03e6-46a6-c369-52531fb96cfd"
      },
      "execution_count": null,
      "outputs": [
        {
          "output_type": "display_data",
          "data": {
            "text/plain": [
              "<Figure size 640x480 with 2 Axes>"
            ],
            "image/png": "[encoded data removed]"
          },
          "metadata": {}
        }
      ]
    },
    {
      "cell_type": "code",
      "source": [
        "import matplotlib.pyplot as plt\n",
        "# Plot training history\n",
        "def plot_training_history(history):\n",
        "    plt.figure(figsize=(12, 4))\n",
        "    plt.subplot(1, 2, 1)\n",
        "    plt.plot(history.history['accuracy'], label='Train Accuracy')\n",
        "    plt.plot(history.history['val_accuracy'], label='Validation Accuracy')\n",
        "    plt.legend()\n",
        "    plt.title('Model Accuracy')\n",
        "\n",
        "    plt.subplot(1, 2, 2)\n",
        "    plt.plot(history.history['loss'], label='Train Loss')\n",
        "    plt.plot(history.history['val_loss'], label='Validation Loss')\n",
        "    plt.legend()\n",
        "    plt.title('Model Loss')\n",
        "    plt.show()\n",
        "\n",
        "plot_training_history(history)\n"
      ],
      "metadata": {
        "colab": {
          "base_uri": "https://localhost:8080/",
          "height": 256
        },
        "id": "A4jfW7d2Qzad",
        "outputId": "af74df59-85be-482e-eeed-282245950c30"
      },
      "execution_count": null,
      "outputs": [
        {
          "output_type": "display_data",
          "data": {
            "text/plain": [
              "<Figure size 1200x400 with 2 Axes>"
            ],
            "image/png": "[encoded data removed]"
          },
          "metadata": {}
        }
      ]
    },
    {
      "cell_type": "code",
      "source": [],
      "metadata": {
        "id": "Vf2T9YobSPIF"
      },
      "execution_count": null,
      "outputs": []
    }
  ]
}